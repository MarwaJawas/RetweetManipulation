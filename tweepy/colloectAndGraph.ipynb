{
 "cells": [
  {
   "cell_type": "code",
   "execution_count": 3,
   "metadata": {},
   "outputs": [
    {
     "name": "stdout",
     "output_type": "stream",
     "text": [
      "806\n"
     ]
    }
   ],
   "source": [
    "import tweepy\n",
    "import json\n",
    "\n",
    "ACCESS_TOKEN = \"2784057314-HaEOW3D6CJfvuKLgWmJm2SWJ92EqYhia5RfPeRM\"\n",
    "ACCESS_TOKEN_SECRET = \"iPD5zNHHFi9IpNifD44qqhsZ1fa6vSmqD1BZ5keReho8K\"\n",
    "CONSUMER_KEY = \"AR5l7BlgbpFgxRQZ7A0bIKOW0\"\n",
    "CONSUMER_SECRET = \"e1sg2gCCGqVrSR7uuSRN8qynWSbORqx1piIKnnsAau6wiiw5iF\"\n",
    "\n",
    "auth = tweepy.OAuthHandler(CONSUMER_KEY,CONSUMER_SECRET)\n",
    "auth.set_access_token(ACCESS_TOKEN, ACCESS_TOKEN_SECRET)\n",
    "\n",
    "api = tweepy.API(auth, wait_on_rate_limit = True, wait_on_rate_limit_notify = True)\n",
    "\n",
    "#F_NAME = 'mp_retweet_data_(%s_to_%s).json' % (start_date.isoformat(), end_date.isoformat())\n",
    "F_NAME = 'new_retweet_data222.json'\n",
    "tweets_read = 0\n",
    "sn_read = 0\n",
    "search_words = \"#هييه_الترفيه_تدعم_المواهب\"\n",
    "\n",
    "with open(F_NAME,'w') as f_out:\n",
    "    #for screen_name in screen_name_list:\n",
    "    try:\n",
    "        search=tweepy.Cursor(api.search,q = search_words, include_rts = True).items(100000)\n",
    "            #search = api.user_timeline(screen_name = screen_name, min_id = min_id, max_id = max_id, include_rts = True)\n",
    "            \n",
    "    except tweepy.TweepError:\n",
    "        pass # can't get records from this user, probably a protected account and it is safe to skip\n",
    "    else:\n",
    "        for result in search:\n",
    "            \n",
    "            tweet = result._json\n",
    "            if tweet.get('retweeted_status'):\n",
    "                json.dump(tweet, f_out)\n",
    "                f_out.write('\\n')\n",
    "                tweets_read += 1\n",
    "        sn_read += 1\n",
    "print (tweets_read)\n",
    "           \n",
    "#print 'Users read:Retweets read:Finished'    "
   ]
  },
  {
   "cell_type": "code",
   "execution_count": 4,
   "metadata": {},
   "outputs": [
    {
     "data": {
      "text/plain": [
       "[]"
      ]
     },
     "execution_count": 4,
     "metadata": {},
     "output_type": "execute_result"
    }
   ],
   "source": [
    "[tweet.text for tweet in search]"
   ]
  },
  {
   "cell_type": "code",
   "execution_count": null,
   "metadata": {},
   "outputs": [],
   "source": []
  }
 ],
 "metadata": {
  "kernelspec": {
   "display_name": "Python 3",
   "language": "python",
   "name": "python3"
  },
  "language_info": {
   "codemirror_mode": {
    "name": "ipython",
    "version": 3
   },
   "file_extension": ".py",
   "mimetype": "text/x-python",
   "name": "python",
   "nbconvert_exporter": "python",
   "pygments_lexer": "ipython3",
   "version": "3.7.3"
  }
 },
 "nbformat": 4,
 "nbformat_minor": 2
}
