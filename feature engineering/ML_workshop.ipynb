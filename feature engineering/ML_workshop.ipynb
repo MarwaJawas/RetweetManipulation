{
 "cells": [
  {
   "cell_type": "code",
   "execution_count": 1,
   "metadata": {},
   "outputs": [],
   "source": [
    "import sys\n",
    "import scipy\n",
    "import numpy as np\n",
    "import pandas\n",
    "import sklearn\n",
    "import pandas as pd\n",
    "from matplotlib import pyplot\n",
    "from sklearn.model_selection import train_test_split\n",
    "from sklearn.model_selection import cross_val_score\n",
    "from sklearn.model_selection import StratifiedKFold\n",
    "from sklearn.metrics import classification_report\n",
    "from sklearn.metrics import confusion_matrix\n",
    "from sklearn.metrics import accuracy_score\n",
    "from sklearn.tree import DecisionTreeClassifier\n",
    "from sklearn.neighbors import KNeighborsClassifier\n",
    "from sklearn.ensemble import RandomForestClassifier\n",
    "from sklearn.linear_model import LogisticRegression\n",
    "from sklearn.ensemble import GradientBoostingClassifier\n",
    "from sklearn.discriminant_analysis import LinearDiscriminantAnalysis\n",
    "from sklearn.svm import SVC\n",
    "#from sklearn.datasets import load_iris"
   ]
  },
  {
   "cell_type": "code",
   "execution_count": 14,
   "metadata": {},
   "outputs": [],
   "source": [
    "#dataset = pd.read_csv(\"new4_final_temp_feat.csv\")\n",
    "dataset = pd.read_csv(\"extracted_all_feat.csv\")\n",
    "#dataset.columns\n",
    "#print(len(dataset.columns))\n",
    "dataset.fillna(0.999, inplace=True)\n",
    "x = dataset.iloc[:, 1:33].values\n",
    "y = dataset.iloc[:, 33].values\n",
    "X_train, X_test, Y_train, Y_test = train_test_split(x, y, test_size=0.20, random_state=1)"
   ]
  },
  {
   "cell_type": "code",
   "execution_count": 31,
   "metadata": {},
   "outputs": [],
   "source": [
    "#dataset = pd.read_csv(\"new4_final_temp_feat.csv\")\n",
    "dataset = pd.read_csv(\"extracted_all_feat.csv\")\n",
    "#dataset.columns\n",
    "#print(len(dataset.columns))\n",
    "dataset.fillna(0.999, inplace=True)\n",
    "x = dataset.iloc[:, np.r_[1,4,5,8,13,19,22,24,25,27]].values\n",
    "#x = dataset.iloc[:, np.r_[1,2,4,7,10,12,13,14,28,31]].values\n",
    "#x = dataset.iloc[:, np.r_[30,10,14,4,2,28,13,16,9,1]].values\n",
    "y = dataset.iloc[:, 33].values\n",
    "X_train, X_test, Y_train, Y_test = train_test_split(x, y, test_size=0.20, random_state=1)"
   ]
  },
  {
   "cell_type": "code",
   "execution_count": 24,
   "metadata": {},
   "outputs": [],
   "source": [
    "#dataset = pd.read_csv(\"new4_final_temp_feat.csv\")\n",
    "dataset = pd.read_csv(\"new4_final_temp_feat.csv\")\n",
    "#print(len(dataset.columns))\n",
    "dataset.fillna(0.999, inplace=True)\n",
    "x = dataset.iloc[:, 1:8].values\n",
    "y = dataset.iloc[:, 9].values"
   ]
  },
  {
   "cell_type": "code",
   "execution_count": 21,
   "metadata": {},
   "outputs": [],
   "source": [
    "dataset = pd.read_csv(\"new4_final_rt_feat.csv\")\n",
    "#print(len(dataset.columns))\n",
    "#dataset.fillna(0.999, inplace=True)\n",
    "x = dataset.iloc[:, 1:12].values\n",
    "y = dataset.iloc[:, 13].values"
   ]
  },
  {
   "cell_type": "code",
   "execution_count": 17,
   "metadata": {},
   "outputs": [],
   "source": [
    "dataset = pd.read_csv(\"new4_final_graph_feat.csv\")\n",
    "#print(len(dataset.columns))\n",
    "#dataset.fillna(0.999, inplace=True)\n",
    "x = dataset.iloc[:, 1:2].values\n",
    "y = dataset.iloc[:, 3].values"
   ]
  },
  {
   "cell_type": "code",
   "execution_count": 11,
   "metadata": {},
   "outputs": [],
   "source": [
    "#add columns to dataframe\n",
    "import pandas as pd\n",
    "#a = pd.read_csv(\"final_rt_feat.csv\")\n",
    "#b = pd.read_csv(\"final_temp_feat.csv\")\n",
    "a = pd.read_csv(\"new4_final_rt_feat.csv\")\n",
    "b = pd.read_csv(\"new4_final_temp_feat.csv\")\n",
    "\n",
    "merged = pd.merge(b, a, how='left', on=['groupID','label'])\n",
    "merged.fillna(0.999, inplace=True)\n",
    "x = merged.iloc[:,  np.r_[ 1:8, 10:21]].values\n",
    "y = merged.iloc[:, 9].values  "
   ]
  },
  {
   "cell_type": "code",
   "execution_count": 2,
   "metadata": {},
   "outputs": [],
   "source": [
    "#add columns to dataframe\n",
    "import pandas as pd\n",
    "#a = pd.read_csv(\"final_graph_feat.csv\")\n",
    "#b = pd.read_csv(\"final_temp_feat.csv\")\n",
    "\n",
    "a = pd.read_csv(\"new4_final_graph_feat.csv\")\n",
    "b = pd.read_csv(\"new4_final_temp_feat.csv\")\n",
    "\n",
    "merged = pd.merge(b, a, how='left', on=['groupID','label'])\n",
    "merged.fillna(0.999, inplace=True)\n",
    "\n",
    "c = pd.read_csv(\"new4_final_rt_feat.csv\")\n",
    "new3_merged = pd.merge(merged, c, how='left', on=['groupID','label'])\n",
    "x = new3_merged.iloc[:,  np.r_[ 1:8, 10:11, 12:23]].values\n",
    "y = new3_merged.iloc[:, 9].values \n",
    "  "
   ]
  },
  {
   "cell_type": "code",
   "execution_count": 4,
   "metadata": {},
   "outputs": [
    {
     "data": {
      "text/plain": [
       "Index(['groupID', 'inter_posting_time_compactness',\n",
       "       'retweeting_time_distribution_sd', 'retweeting_time_distribution_mean',\n",
       "       'retweeting_time_distribution_cov', 'cov_response_time',\n",
       "       'user_creation_time_distribution_sd',\n",
       "       'user_creation_time_distribution_mean',\n",
       "       'user_creation_time_distribution_cov', 'avg_neighbor_degree_entropy',\n",
       "       'avg_neighbor_degree_sd', 'avg_neighbor_degree_mean',\n",
       "       'avg_neighbor_degree_cov', 'avg_degree_connectivity_entropy',\n",
       "       'avg_degree_connectivity_sd', 'avg_degree_connectivity_mean',\n",
       "       'avg_degree_connectivity_cov', 'digitsInScreenName_entropy',\n",
       "       'hashtagsInUserName_entropy', 'specialCharacters_uname_entropy',\n",
       "       'url_in_bio_entropy', 'mention_in_bio_entropy',\n",
       "       'hashtags_in_bio_entropy', 'length_screen_name_entropy',\n",
       "       'length_user_name_entropy', 'statuses_count_entropy',\n",
       "       'listed_count_entropy', 'favourites_count_entropy',\n",
       "       'standard_dev_statuses_count', 'standard_dev_listed_count',\n",
       "       'standard_dev_favourites_count', 'url_in_tweet_list_entropy',\n",
       "       'mention_in_tweet_list_entropy', 'label'],\n",
       "      dtype='object')"
      ]
     },
     "execution_count": 4,
     "metadata": {},
     "output_type": "execute_result"
    }
   ],
   "source": [
    "dataset.columns\n",
    "x = dataset.iloc[:,  np.r_[ 30,10,14,4,2,28,13,16,1,9]].values"
   ]
  },
  {
   "cell_type": "code",
   "execution_count": null,
   "metadata": {},
   "outputs": [],
   "source": [
    "import pandas as pd\n",
    "#a = pd.read_csv(\"final_graph_feat.csv\")\n",
    "#b = pd.read_csv(\"final_temp_feat.csv\")\n",
    "\n",
    "a = pd.read_csv(\"new4_final_graph_feat.csv\")\n",
    "b = pd.read_csv(\"new4_final_temp_feat.csv\")\n",
    "\n",
    "merged = pd.merge(b, a, how='left', on=['groupID','label'])\n",
    "merged.fillna(0.999, inplace=True)\n",
    "x = merged.iloc[:,  np.r_[ 1:8, 10:11]].values\n",
    "y = merged.iloc[:, 9].values "
   ]
  },
  {
   "cell_type": "code",
   "execution_count": 13,
   "metadata": {},
   "outputs": [],
   "source": [
    "X_train, X_test, Y_train, Y_test = train_test_split(x, y, test_size=0.20, random_state=1)"
   ]
  },
  {
   "cell_type": "code",
   "execution_count": 33,
   "metadata": {},
   "outputs": [
    {
     "name": "stdout",
     "output_type": "stream",
     "text": [
      "Decision Tree: 0.878893\n",
      "Random Forest: 0.919177\n",
      "Logistic Regression: 0.907175\n",
      "Gradient Boosting: 0.905097\n",
      "Linear Discriminant Analysis: 0.911216\n",
      "KNN: 0.919175\n",
      "SVM: 0.917260\n"
     ]
    }
   ],
   "source": [
    "# Spot Check Algorithms\n",
    "models = []\n",
    "models.append(('Decision Tree', DecisionTreeClassifier()))\n",
    "\n",
    "#models.append(('Random Forest', RandomForestClassifier(n_estimators=100)))\n",
    "models.append(('Random Forest',RandomForestClassifier(n_estimators=200,class_weight=\"balanced\")))\n",
    "#models.append(('Random Forest',RandomForestClassifier(n_estimators=200, max_depth=3, random_state=0)))\n",
    "#models.append(('Logistic Regression', LogisticRegression(solver='lbfgs')))\n",
    "models.append(('Logistic Regression', LogisticRegression(penalty='l1',dual=False,max_iter=110, solver='liblinear',class_weight=\"balanced\")))\n",
    "models.append(('Gradient Boosting', GradientBoostingClassifier()))\n",
    "models.append(('Linear Discriminant Analysis', LinearDiscriminantAnalysis()))\n",
    "\n",
    "models.append(('KNN', KNeighborsClassifier()))\n",
    "models.append(('SVM', SVC(gamma='auto')))\n",
    "\n",
    "# evaluate each model in turn\n",
    "results = []\n",
    "names = []\n",
    "for name, model in models:\n",
    "    kfold = StratifiedKFold(n_splits=10, random_state=1)\n",
    "    cv_results = cross_val_score(model, X_train, Y_train, cv=kfold, scoring='accuracy')\n",
    "    results.append(cv_results)\n",
    "    names.append(name)\n",
    "    print('%s: %f' % (name, cv_results.mean()))"
   ]
  },
  {
   "cell_type": "code",
   "execution_count": 4,
   "metadata": {},
   "outputs": [
    {
     "data": {
      "text/plain": [
       "[array([0.92      , 0.94      , 0.94      , 0.94      , 0.86      ,\n",
       "        0.92      , 0.91836735, 0.89795918, 0.89795918, 0.89583333]),\n",
       " array([0.92      , 0.94      , 0.94      , 0.92      , 0.92      ,\n",
       "        0.92      , 0.95918367, 0.95918367, 0.91836735, 0.91666667]),\n",
       " array([0.92      , 0.94      , 0.94      , 0.9       , 0.9       ,\n",
       "        0.94      , 0.95918367, 0.91836735, 0.87755102, 0.91666667]),\n",
       " array([0.94      , 0.94      , 0.96      , 0.92      , 0.92      ,\n",
       "        0.94      , 0.91836735, 0.97959184, 0.89795918, 0.91666667]),\n",
       " array([0.94      , 0.92      , 0.94      , 0.94      , 0.9       ,\n",
       "        0.92      , 0.93877551, 0.95918367, 0.89795918, 0.91666667]),\n",
       " array([0.66      , 0.62      , 0.6       , 0.62      , 0.72      ,\n",
       "        0.6       , 0.65306122, 0.67346939, 0.65306122, 0.72916667]),\n",
       " array([0.62      , 0.6       , 0.6       , 0.6       , 0.6       ,\n",
       "        0.6       , 0.6122449 , 0.63265306, 0.6122449 , 0.60416667])]"
      ]
     },
     "execution_count": 4,
     "metadata": {},
     "output_type": "execute_result"
    }
   ],
   "source": [
    "results"
   ]
  },
  {
   "cell_type": "code",
   "execution_count": 34,
   "metadata": {},
   "outputs": [
    {
     "name": "stdout",
     "output_type": "stream",
     "text": [
      "Decision Tree: 0.879973\n",
      "Random Forest: 0.973085\n",
      "Logistic Regression: 0.963985\n",
      "Gradient Boosting: 0.964435\n",
      "Linear Discriminant Analysis: 0.967473\n",
      "KNN: 0.956068\n",
      "SVM: 0.971727\n"
     ]
    }
   ],
   "source": [
    "# Spot Check Algorithms\n",
    "models = []\n",
    "models.append(('Decision Tree', DecisionTreeClassifier()))\n",
    "\n",
    "#models.append(('Random Forest', RandomForestClassifier(n_estimators=100)))\n",
    "models.append(('Random Forest',RandomForestClassifier(n_estimators=200,class_weight=\"balanced\")))\n",
    "#models.append(('Logistic Regression', LogisticRegression(solver='lbfgs')))\n",
    "models.append(('Logistic Regression', LogisticRegression(penalty='l1',dual=False,max_iter=110, solver='liblinear',class_weight=\"balanced\")))\n",
    "models.append(('Gradient Boosting', GradientBoostingClassifier()))\n",
    "models.append(('Linear Discriminant Analysis', LinearDiscriminantAnalysis()))\n",
    "\n",
    "models.append(('KNN', KNeighborsClassifier()))\n",
    "models.append(('SVM', SVC(gamma='auto')))\n",
    "\n",
    "# evaluate each model in turn\n",
    "results = []\n",
    "names = []\n",
    "for name, model in models:\n",
    "    kfold = StratifiedKFold(n_splits=10, random_state=1)\n",
    "    cv_results = cross_val_score(model, X_train, Y_train, cv=kfold, scoring='roc_auc')\n",
    "    results.append(cv_results)\n",
    "    names.append(name)\n",
    "    print('%s: %f' % (name, cv_results.mean()))"
   ]
  },
  {
   "cell_type": "code",
   "execution_count": 35,
   "metadata": {},
   "outputs": [
    {
     "name": "stdout",
     "output_type": "stream",
     "text": [
      "Decision Tree: 0.848481\n",
      "Random Forest: 0.919515\n",
      "Logistic Regression: 0.867332\n",
      "Gradient Boosting: 0.897724\n",
      "Linear Discriminant Analysis: 0.907560\n",
      "KNN: 0.905181\n",
      "SVM: 0.907346\n"
     ]
    }
   ],
   "source": [
    "# Spot Check Algorithms\n",
    "models = []\n",
    "models.append(('Decision Tree', DecisionTreeClassifier()))\n",
    "\n",
    "#models.append(('Random Forest', RandomForestClassifier(n_estimators=100)))\n",
    "models.append(('Random Forest',RandomForestClassifier(n_estimators=200, class_weight=\"balanced\")))\n",
    "#models.append(('Logistic Regression', LogisticRegression(solver='lbfgs')))\n",
    "models.append(('Logistic Regression', LogisticRegression(penalty='l1',dual=False,max_iter=110, solver='liblinear',class_weight=\"balanced\")))\n",
    "models.append(('Gradient Boosting', GradientBoostingClassifier()))\n",
    "models.append(('Linear Discriminant Analysis', LinearDiscriminantAnalysis()))\n",
    "\n",
    "models.append(('KNN', KNeighborsClassifier()))\n",
    "models.append(('SVM', SVC(gamma='auto')))\n",
    "\n",
    "# evaluate each model in turn\n",
    "results = []\n",
    "names = []\n",
    "for name, model in models:\n",
    "    kfold = StratifiedKFold(n_splits=10, random_state=1)\n",
    "    cv_results = cross_val_score(model, X_train, Y_train, cv=kfold, scoring='precision')\n",
    "    results.append(cv_results)\n",
    "    names.append(name)\n",
    "    print('%s: %f' % (name, cv_results.mean()))"
   ]
  },
  {
   "cell_type": "code",
   "execution_count": 36,
   "metadata": {},
   "outputs": [
    {
     "name": "stdout",
     "output_type": "stream",
     "text": [
      "Decision Tree: 0.857368\n",
      "Random Forest: 0.882368\n",
      "Logistic Regression: 0.913421\n",
      "Gradient Boosting: 0.867105\n",
      "Linear Discriminant Analysis: 0.867895\n",
      "KNN: 0.897632\n",
      "SVM: 0.887368\n"
     ]
    }
   ],
   "source": [
    "# Spot Check Algorithms\n",
    "models = []\n",
    "models.append(('Decision Tree', DecisionTreeClassifier(class_weight=\"balanced\")))\n",
    "\n",
    "#models.append(('Random Forest', RandomForestClassifier(n_estimators=100)))\n",
    "models.append(('Random Forest',RandomForestClassifier(n_estimators=200,class_weight=\"balanced\")))\n",
    "#models.append(('Logistic Regression', LogisticRegression(solver='lbfgs')))\n",
    "models.append(('Logistic Regression', LogisticRegression(penalty='l1',dual=False,max_iter=110, solver='liblinear',class_weight=\"balanced\")))\n",
    "models.append(('Gradient Boosting', GradientBoostingClassifier()))\n",
    "models.append(('Linear Discriminant Analysis', LinearDiscriminantAnalysis()))\n",
    "\n",
    "models.append(('KNN', KNeighborsClassifier()))\n",
    "models.append(('SVM', SVC(gamma='auto')))\n",
    "\n",
    "# evaluate each model in turn\n",
    "results = []\n",
    "names = []\n",
    "for name, model in models:\n",
    "    kfold = StratifiedKFold(n_splits=10, random_state=1)\n",
    "    cv_results = cross_val_score(model, X_train, Y_train, cv=kfold, scoring='recall')\n",
    "    results.append(cv_results)\n",
    "    names.append(name)\n",
    "    print('%s: %f' % (name, cv_results.mean()))"
   ]
  },
  {
   "cell_type": "code",
   "execution_count": 37,
   "metadata": {},
   "outputs": [
    {
     "name": "stdout",
     "output_type": "stream",
     "text": [
      "Decision Tree: 0.846709\n",
      "Random Forest: 0.889943\n",
      "Logistic Regression: 0.887647\n",
      "Gradient Boosting: 0.885573\n",
      "Linear Discriminant Analysis: 0.885634\n",
      "KNN: 0.898988\n",
      "SVM: 0.895047\n"
     ]
    }
   ],
   "source": [
    "# Spot Check Algorithms\n",
    "models = []\n",
    "models.append(('Decision Tree', DecisionTreeClassifier()))\n",
    "\n",
    "#models.append(('Random Forest', RandomForestClassifier(n_estimators=100)))\n",
    "models.append(('Random Forest',RandomForestClassifier(n_estimators=200,class_weight=\"balanced\")))\n",
    "#models.append(('Logistic Regression', LogisticRegression(solver='lbfgs')))\n",
    "models.append(('Logistic Regression', LogisticRegression(penalty='l1',dual=False,max_iter=110, solver='liblinear',class_weight=\"balanced\")))\n",
    "models.append(('Gradient Boosting', GradientBoostingClassifier()))\n",
    "models.append(('Linear Discriminant Analysis', LinearDiscriminantAnalysis()))\n",
    "\n",
    "models.append(('KNN', KNeighborsClassifier()))\n",
    "models.append(('SVM', SVC(gamma='auto')))\n",
    "\n",
    "# evaluate each model in turn\n",
    "results = []\n",
    "names = []\n",
    "for name, model in models:\n",
    "    kfold = StratifiedKFold(n_splits=10, random_state=1)\n",
    "    cv_results = cross_val_score(model, X_train, Y_train, cv=kfold, scoring='f1')\n",
    "    results.append(cv_results)\n",
    "    names.append(name)\n",
    "    print('%s: %f' % (name, cv_results.mean()))"
   ]
  },
  {
   "cell_type": "code",
   "execution_count": 21,
   "metadata": {},
   "outputs": [
    {
     "data": {
      "image/png": "[encoded data removed]",
      "text/plain": [
       "<Figure size 432x288 with 1 Axes>"
      ]
     },
     "metadata": {
      "needs_background": "light"
     },
     "output_type": "display_data"
    }
   ],
   "source": [
    "# Compare Algorithms\n",
    "pyplot.boxplot(results, labels=names)\n",
    "pyplot.title('Algorithm Comparison')\n",
    "pyplot.show()"
   ]
  },
  {
   "cell_type": "code",
   "execution_count": 18,
   "metadata": {},
   "outputs": [
    {
     "name": "stdout",
     "output_type": "stream",
     "text": [
      "[[64  2]\n",
      " [ 6 52]]\n",
      "0.9354838709677419\n",
      "              precision    recall  f1-score   support\n",
      "\n",
      "       False       0.91      0.97      0.94        66\n",
      "        True       0.96      0.90      0.93        58\n",
      "\n",
      "    accuracy                           0.94       124\n",
      "   macro avg       0.94      0.93      0.93       124\n",
      "weighted avg       0.94      0.94      0.94       124\n",
      "\n"
     ]
    }
   ],
   "source": [
    "# Make predictions on validation dataset\n",
    "model =RandomForestClassifier(n_estimators=200)\n",
    "#model = LogisticRegression(penalty='l1',dual=False,max_iter=110, solver='liblinear')\n",
    "#model = GradientBoostingClassifier()\n",
    "#model= DecisionTreeClassifier()\n",
    "#model= LinearDiscriminantAnalysis()\n",
    "#model=LogisticRegression(penalty='l1',dual=False,max_iter=110, solver='liblinear')\n",
    "#model = SVC(gamma='auto')\n",
    "model.fit(X_train, Y_train)\n",
    "#m=np.where(np.isnan(X_test))\n",
    "predictions = model.predict(X_test)\n",
    "# Evaluate predictions\n",
    "print(confusion_matrix(Y_test, predictions))\n",
    "print(accuracy_score(Y_test, predictions))\n",
    "print(classification_report(Y_test, predictions))"
   ]
  },
  {
   "cell_type": "code",
   "execution_count": 2,
   "metadata": {},
   "outputs": [],
   "source": [
    "#add rows to DataFrame\n",
    "import pandas as pd\n",
    "dataset = pd.read_csv(\"final_graph_feat.csv\")\n",
    "dataset2 = pd.read_csv(\"extracted_graph_features_aletihad_alhilal.csv\")\n",
    "out = dataset.append(dataset2)\n",
    "with open('new4_final_graph_feat.csv', 'w', encoding='utf-8') as f:\n",
    "    out.to_csv(f, index=False)\n",
    "    "
   ]
  },
  {
   "cell_type": "code",
   "execution_count": 3,
   "metadata": {},
   "outputs": [],
   "source": [
    "#add columns to dataframe\n",
    "import pandas as pd\n",
    "#a = pd.read_csv(\"final_rt_feat.csv\")\n",
    "a = pd.read_csv(\"final_graph_feat.csv\")\n",
    "b = pd.read_csv(\"final_temp_feat.csv\")\n",
    "\n",
    "merged = pd.merge(b, a, how='left', on=['groupID','label'])\n",
    "    "
   ]
  },
  {
   "cell_type": "code",
   "execution_count": 4,
   "metadata": {},
   "outputs": [
    {
     "data": {
      "text/html": [
       "<div>\n",
       "<style scoped>\n",
       "    .dataframe tbody tr th:only-of-type {\n",
       "        vertical-align: middle;\n",
       "    }\n",
       "\n",
       "    .dataframe tbody tr th {\n",
       "        vertical-align: top;\n",
       "    }\n",
       "\n",
       "    .dataframe thead th {\n",
       "        text-align: right;\n",
       "    }\n",
       "</style>\n",
       "<table border=\"1\" class=\"dataframe\">\n",
       "  <thead>\n",
       "    <tr style=\"text-align: right;\">\n",
       "      <th></th>\n",
       "      <th>groupID</th>\n",
       "      <th>inter_posting_time_compactness</th>\n",
       "      <th>retweeting_time_distribution_sd</th>\n",
       "      <th>retweeting_time_distribution_mean</th>\n",
       "      <th>retweeting_time_distribution_cov</th>\n",
       "      <th>cov_response_time</th>\n",
       "      <th>user_creation_time_distribution_sd</th>\n",
       "      <th>user_creation_time_distribution_mean</th>\n",
       "      <th>user_creation_time_distribution_cov</th>\n",
       "      <th>label</th>\n",
       "      <th>...</th>\n",
       "      <th>specialCharacters_sname_entropy</th>\n",
       "      <th>specialCharacters_uname_entropy</th>\n",
       "      <th>url_in_bio_entropy</th>\n",
       "      <th>mention_in_bio_entropy</th>\n",
       "      <th>hashtags_in_bio_entropy</th>\n",
       "      <th>length_screen_name_entropy</th>\n",
       "      <th>length_user_name_entropy</th>\n",
       "      <th>rt_user_statuses_count_entropy</th>\n",
       "      <th>rt_user_listed_count_entropy</th>\n",
       "      <th>rt_user_favourites_count_entropy</th>\n",
       "    </tr>\n",
       "  </thead>\n",
       "  <tbody>\n",
       "    <tr>\n",
       "      <th>0</th>\n",
       "      <td>d802ea6227084ee2ac615150196a79b9</td>\n",
       "      <td>0.292237</td>\n",
       "      <td>3325.473129</td>\n",
       "      <td>1749.296805</td>\n",
       "      <td>1.901034</td>\n",
       "      <td>0.256111</td>\n",
       "      <td>1.151538e+07</td>\n",
       "      <td>8.342802e+06</td>\n",
       "      <td>1.380277</td>\n",
       "      <td>False</td>\n",
       "      <td>...</td>\n",
       "      <td>0.0</td>\n",
       "      <td>2.242653</td>\n",
       "      <td>0.0</td>\n",
       "      <td>0.000000</td>\n",
       "      <td>0.000000</td>\n",
       "      <td>3.095821</td>\n",
       "      <td>3.704872</td>\n",
       "      <td>4.954196</td>\n",
       "      <td>0.753828</td>\n",
       "      <td>4.954196</td>\n",
       "    </tr>\n",
       "    <tr>\n",
       "      <th>1</th>\n",
       "      <td>6493e40ac62c4ba0b4a537452bb05798</td>\n",
       "      <td>0.433829</td>\n",
       "      <td>1863.548653</td>\n",
       "      <td>1081.143679</td>\n",
       "      <td>1.723683</td>\n",
       "      <td>0.514696</td>\n",
       "      <td>2.992714e+06</td>\n",
       "      <td>3.227216e+06</td>\n",
       "      <td>0.927336</td>\n",
       "      <td>False</td>\n",
       "      <td>...</td>\n",
       "      <td>0.0</td>\n",
       "      <td>2.195640</td>\n",
       "      <td>0.0</td>\n",
       "      <td>0.000000</td>\n",
       "      <td>0.278891</td>\n",
       "      <td>3.178780</td>\n",
       "      <td>4.121319</td>\n",
       "      <td>6.368508</td>\n",
       "      <td>1.546323</td>\n",
       "      <td>6.368508</td>\n",
       "    </tr>\n",
       "    <tr>\n",
       "      <th>2</th>\n",
       "      <td>9030653907244d00b34a52db9cca49d1</td>\n",
       "      <td>0.267016</td>\n",
       "      <td>2216.625680</td>\n",
       "      <td>1680.118293</td>\n",
       "      <td>1.319327</td>\n",
       "      <td>0.455857</td>\n",
       "      <td>2.446745e+07</td>\n",
       "      <td>9.815660e+06</td>\n",
       "      <td>2.492695</td>\n",
       "      <td>False</td>\n",
       "      <td>...</td>\n",
       "      <td>0.0</td>\n",
       "      <td>1.531920</td>\n",
       "      <td>0.0</td>\n",
       "      <td>0.000000</td>\n",
       "      <td>0.000000</td>\n",
       "      <td>2.667629</td>\n",
       "      <td>3.407268</td>\n",
       "      <td>4.584963</td>\n",
       "      <td>0.497150</td>\n",
       "      <td>4.501629</td>\n",
       "    </tr>\n",
       "    <tr>\n",
       "      <th>3</th>\n",
       "      <td>3f0106db71e74879a4e53ebd3b9a2005</td>\n",
       "      <td>0.108434</td>\n",
       "      <td>1930.068525</td>\n",
       "      <td>2499.879378</td>\n",
       "      <td>0.772065</td>\n",
       "      <td>1.008509</td>\n",
       "      <td>3.647970e+07</td>\n",
       "      <td>1.493965e+07</td>\n",
       "      <td>2.441803</td>\n",
       "      <td>False</td>\n",
       "      <td>...</td>\n",
       "      <td>0.0</td>\n",
       "      <td>1.247556</td>\n",
       "      <td>0.0</td>\n",
       "      <td>0.696212</td>\n",
       "      <td>0.000000</td>\n",
       "      <td>3.000000</td>\n",
       "      <td>3.202820</td>\n",
       "      <td>4.000000</td>\n",
       "      <td>1.496641</td>\n",
       "      <td>4.000000</td>\n",
       "    </tr>\n",
       "    <tr>\n",
       "      <th>4</th>\n",
       "      <td>84481f82a41b4b79b70d526fd9266069</td>\n",
       "      <td>0.098039</td>\n",
       "      <td>3331.455671</td>\n",
       "      <td>3229.620046</td>\n",
       "      <td>1.031532</td>\n",
       "      <td>0.543634</td>\n",
       "      <td>1.406057e+07</td>\n",
       "      <td>1.652825e+07</td>\n",
       "      <td>0.850700</td>\n",
       "      <td>False</td>\n",
       "      <td>...</td>\n",
       "      <td>0.0</td>\n",
       "      <td>1.985228</td>\n",
       "      <td>0.0</td>\n",
       "      <td>0.000000</td>\n",
       "      <td>0.000000</td>\n",
       "      <td>2.807355</td>\n",
       "      <td>2.950212</td>\n",
       "      <td>3.807355</td>\n",
       "      <td>2.064043</td>\n",
       "      <td>3.807355</td>\n",
       "    </tr>\n",
       "  </tbody>\n",
       "</table>\n",
       "<p>5 rows × 22 columns</p>\n",
       "</div>"
      ],
      "text/plain": [
       "                            groupID  inter_posting_time_compactness  \\\n",
       "0  d802ea6227084ee2ac615150196a79b9                        0.292237   \n",
       "1  6493e40ac62c4ba0b4a537452bb05798                        0.433829   \n",
       "2  9030653907244d00b34a52db9cca49d1                        0.267016   \n",
       "3  3f0106db71e74879a4e53ebd3b9a2005                        0.108434   \n",
       "4  84481f82a41b4b79b70d526fd9266069                        0.098039   \n",
       "\n",
       "   retweeting_time_distribution_sd  retweeting_time_distribution_mean  \\\n",
       "0                      3325.473129                        1749.296805   \n",
       "1                      1863.548653                        1081.143679   \n",
       "2                      2216.625680                        1680.118293   \n",
       "3                      1930.068525                        2499.879378   \n",
       "4                      3331.455671                        3229.620046   \n",
       "\n",
       "   retweeting_time_distribution_cov  cov_response_time  \\\n",
       "0                          1.901034           0.256111   \n",
       "1                          1.723683           0.514696   \n",
       "2                          1.319327           0.455857   \n",
       "3                          0.772065           1.008509   \n",
       "4                          1.031532           0.543634   \n",
       "\n",
       "   user_creation_time_distribution_sd  user_creation_time_distribution_mean  \\\n",
       "0                        1.151538e+07                          8.342802e+06   \n",
       "1                        2.992714e+06                          3.227216e+06   \n",
       "2                        2.446745e+07                          9.815660e+06   \n",
       "3                        3.647970e+07                          1.493965e+07   \n",
       "4                        1.406057e+07                          1.652825e+07   \n",
       "\n",
       "   user_creation_time_distribution_cov  label  ...  \\\n",
       "0                             1.380277  False  ...   \n",
       "1                             0.927336  False  ...   \n",
       "2                             2.492695  False  ...   \n",
       "3                             2.441803  False  ...   \n",
       "4                             0.850700  False  ...   \n",
       "\n",
       "   specialCharacters_sname_entropy  specialCharacters_uname_entropy  \\\n",
       "0                              0.0                         2.242653   \n",
       "1                              0.0                         2.195640   \n",
       "2                              0.0                         1.531920   \n",
       "3                              0.0                         1.247556   \n",
       "4                              0.0                         1.985228   \n",
       "\n",
       "   url_in_bio_entropy  mention_in_bio_entropy  hashtags_in_bio_entropy  \\\n",
       "0                 0.0                0.000000                 0.000000   \n",
       "1                 0.0                0.000000                 0.278891   \n",
       "2                 0.0                0.000000                 0.000000   \n",
       "3                 0.0                0.696212                 0.000000   \n",
       "4                 0.0                0.000000                 0.000000   \n",
       "\n",
       "   length_screen_name_entropy  length_user_name_entropy  \\\n",
       "0                    3.095821                  3.704872   \n",
       "1                    3.178780                  4.121319   \n",
       "2                    2.667629                  3.407268   \n",
       "3                    3.000000                  3.202820   \n",
       "4                    2.807355                  2.950212   \n",
       "\n",
       "   rt_user_statuses_count_entropy  rt_user_listed_count_entropy  \\\n",
       "0                        4.954196                      0.753828   \n",
       "1                        6.368508                      1.546323   \n",
       "2                        4.584963                      0.497150   \n",
       "3                        4.000000                      1.496641   \n",
       "4                        3.807355                      2.064043   \n",
       "\n",
       "   rt_user_favourites_count_entropy  \n",
       "0                          4.954196  \n",
       "1                          6.368508  \n",
       "2                          4.501629  \n",
       "3                          4.000000  \n",
       "4                          3.807355  \n",
       "\n",
       "[5 rows x 22 columns]"
      ]
     },
     "execution_count": 4,
     "metadata": {},
     "output_type": "execute_result"
    }
   ],
   "source": [
    "merged.head()"
   ]
  },
  {
   "cell_type": "code",
   "execution_count": 5,
   "metadata": {},
   "outputs": [
    {
     "name": "stdout",
     "output_type": "stream",
     "text": [
      "22\n"
     ]
    }
   ],
   "source": [
    "print(len(merged.columns))"
   ]
  },
  {
   "cell_type": "code",
   "execution_count": 50,
   "metadata": {},
   "outputs": [
    {
     "name": "stdout",
     "output_type": "stream",
     "text": [
      "[3.905e+02 7.921e+01 9.388e+00 2.746e+02 1.370e+02 5.098e+00 1.308e+01\n",
      " 2.442e+02 2.757e+01 8.558e+00       nan 5.545e+01 8.771e-02 7.802e+00\n",
      " 7.119e+01 1.680e+00 7.424e+00 1.700e+01 6.868e+01]\n"
     ]
    },
    {
     "name": "stderr",
     "output_type": "stream",
     "text": [
      "C:\\Users\\Welcome\\Anaconda3\\lib\\site-packages\\sklearn\\feature_selection\\univariate_selection.py:114: UserWarning: Features [10] are constant.\n",
      "  UserWarning)\n",
      "C:\\Users\\Welcome\\Anaconda3\\lib\\site-packages\\sklearn\\feature_selection\\univariate_selection.py:115: RuntimeWarning: invalid value encountered in true_divide\n",
      "  f = msb / msw\n"
     ]
    }
   ],
   "source": [
    "# Feature Selection with Univariate Statistical Tests\n",
    "from pandas import read_csv\n",
    "from numpy import set_printoptions\n",
    "from sklearn.feature_selection import SelectKBest\n",
    "from sklearn.feature_selection import f_classif\n",
    "# load data\n",
    "\n",
    "# feature extraction\n",
    "test = SelectKBest(score_func=f_classif, k=4)\n",
    "fit = test.fit(x, y)\n",
    "# summarize scores\n",
    "set_printoptions(precision=3)\n",
    "print(fit.scores_)\n",
    "features = fit.transform(x)\n",
    "# summarize selected features\n",
    "#print(features[0:4,:])"
   ]
  },
  {
   "cell_type": "code",
   "execution_count": 52,
   "metadata": {},
   "outputs": [
    {
     "ename": "AttributeError",
     "evalue": "'numpy.ndarray' object has no attribute 'columns'",
     "output_type": "error",
     "traceback": [
      "\u001b[1;31m---------------------------------------------------------------------------\u001b[0m",
      "\u001b[1;31mAttributeError\u001b[0m                            Traceback (most recent call last)",
      "\u001b[1;32m<ipython-input-52-e39bc189f093>\u001b[0m in \u001b[0;36m<module>\u001b[1;34m\u001b[0m\n\u001b[0;32m     10\u001b[0m \u001b[0mfit\u001b[0m \u001b[1;33m=\u001b[0m \u001b[0mbestfeatures\u001b[0m\u001b[1;33m.\u001b[0m\u001b[0mfit\u001b[0m\u001b[1;33m(\u001b[0m\u001b[0mx\u001b[0m\u001b[1;33m,\u001b[0m\u001b[0my\u001b[0m\u001b[1;33m)\u001b[0m\u001b[1;33m\u001b[0m\u001b[1;33m\u001b[0m\u001b[0m\n\u001b[0;32m     11\u001b[0m \u001b[0mdfscores\u001b[0m \u001b[1;33m=\u001b[0m \u001b[0mpd\u001b[0m\u001b[1;33m.\u001b[0m\u001b[0mDataFrame\u001b[0m\u001b[1;33m(\u001b[0m\u001b[0mfit\u001b[0m\u001b[1;33m.\u001b[0m\u001b[0mscores_\u001b[0m\u001b[1;33m)\u001b[0m\u001b[1;33m\u001b[0m\u001b[1;33m\u001b[0m\u001b[0m\n\u001b[1;32m---> 12\u001b[1;33m \u001b[0mdfcolumns\u001b[0m \u001b[1;33m=\u001b[0m \u001b[0mpd\u001b[0m\u001b[1;33m.\u001b[0m\u001b[0mDataFrame\u001b[0m\u001b[1;33m(\u001b[0m\u001b[0mx\u001b[0m\u001b[1;33m.\u001b[0m\u001b[0mcolumns\u001b[0m\u001b[1;33m)\u001b[0m\u001b[1;33m\u001b[0m\u001b[1;33m\u001b[0m\u001b[0m\n\u001b[0m\u001b[0;32m     13\u001b[0m \u001b[1;31m#concat two dataframes for better visualization\u001b[0m\u001b[1;33m\u001b[0m\u001b[1;33m\u001b[0m\u001b[1;33m\u001b[0m\u001b[0m\n\u001b[0;32m     14\u001b[0m \u001b[0mfeatureScores\u001b[0m \u001b[1;33m=\u001b[0m \u001b[0mpd\u001b[0m\u001b[1;33m.\u001b[0m\u001b[0mconcat\u001b[0m\u001b[1;33m(\u001b[0m\u001b[1;33m[\u001b[0m\u001b[0mdfcolumns\u001b[0m\u001b[1;33m,\u001b[0m\u001b[0mdfscores\u001b[0m\u001b[1;33m]\u001b[0m\u001b[1;33m,\u001b[0m\u001b[0maxis\u001b[0m\u001b[1;33m=\u001b[0m\u001b[1;36m1\u001b[0m\u001b[1;33m)\u001b[0m\u001b[1;33m\u001b[0m\u001b[1;33m\u001b[0m\u001b[0m\n",
      "\u001b[1;31mAttributeError\u001b[0m: 'numpy.ndarray' object has no attribute 'columns'"
     ]
    }
   ],
   "source": [
    "import pandas as pd\n",
    "import numpy as np\n",
    "from sklearn.feature_selection import SelectKBest\n",
    "from sklearn.feature_selection import chi2\n",
    "#data = pd.read_csv(\"D://Blogs//train.csv\")\n",
    "#X = data.iloc[:,0:20]  #independent columns\n",
    "#y = data.iloc[:,-1]    #target column i.e price range\n",
    "#apply SelectKBest class to extract top 10 best features\n",
    "bestfeatures = SelectKBest(score_func=chi2, k=10)\n",
    "fit = bestfeatures.fit(x,y)\n",
    "dfscores = pd.DataFrame(fit.scores_)\n",
    "dfcolumns = pd.DataFrame(x.columns)\n",
    "#concat two dataframes for better visualization \n",
    "featureScores = pd.concat([dfcolumns,dfscores],axis=1)\n",
    "featureScores.columns = ['Specs','Score']  #naming the dataframe columns\n",
    "print(featureScores.nlargest(10,'Score'))  #print 10 best features"
   ]
  },
  {
   "cell_type": "code",
   "execution_count": 18,
   "metadata": {},
   "outputs": [],
   "source": [
    "# Create and fit selector\n",
    "selector = SelectKBest(f_classif, k=7)\n",
    "selector.fit(X, Y)\n",
    "# Get columns to keep and create new dataframe with those only\n",
    "cols = selector.get_support(indices=True)\n",
    "features_df_new = dataset.iloc[:,cols]"
   ]
  },
  {
   "cell_type": "code",
   "execution_count": 19,
   "metadata": {},
   "outputs": [],
   "source": [
    "\n",
    "x = features_df_new.iloc[:, 1:6].values\n",
    " \n",
    "X_train, X_test, Y_train, Y_test = train_test_split(x, Y, test_size=0.20, random_state=1)"
   ]
  },
  {
   "cell_type": "code",
   "execution_count": 20,
   "metadata": {},
   "outputs": [
    {
     "name": "stdout",
     "output_type": "stream",
     "text": [
      "Decision Tree: 0.899632\n",
      "Random Forest: 0.917831\n",
      "Logistic Regression: 0.927022\n",
      "Gradient Boosting: 0.915074\n",
      "Linear Discriminant Analysis: 0.908456\n",
      "KNN: 0.914706\n",
      "SVM: 0.704044\n"
     ]
    }
   ],
   "source": [
    "# Spot Check Algorithms\n",
    "models = []\n",
    "models.append(('Extra Trees',ExtraTreesClassifier()))\n",
    "models.append(('Decision Tree', DecisionTreeClassifier()))\n",
    "\n",
    "#models.append(('Random Forest', RandomForestClassifier(n_estimators=100)))\n",
    "models.append(('Random Forest',RandomForestClassifier(n_estimators=200, max_depth=3, random_state=0)))\n",
    "#models.append(('Logistic Regression', LogisticRegression(solver='lbfgs')))\n",
    "models.append(('Logistic Regression', LogisticRegression(penalty='l1',dual=False,max_iter=110, solver='liblinear')))\n",
    "models.append(('Gradient Boosting', GradientBoostingClassifier()))\n",
    "models.append(('Linear Discriminant Analysis', LinearDiscriminantAnalysis()))\n",
    "\n",
    "models.append(('KNN', KNeighborsClassifier()))\n",
    "models.append(('SVM', SVC(gamma='auto')))\n",
    "\n",
    "# evaluate each model in turn\n",
    "results = []\n",
    "names = []\n",
    "for name, model in models:\n",
    "    kfold = StratifiedKFold(n_splits=10, random_state=1)\n",
    "    cv_results = cross_val_score(model, X_train, Y_train, cv=kfold, scoring='accuracy')\n",
    "    results.append(cv_results)\n",
    "    names.append(name)\n",
    "    print('%s: %f' % (name, cv_results.mean()))"
   ]
  },
  {
   "cell_type": "code",
   "execution_count": 85,
   "metadata": {},
   "outputs": [
    {
     "name": "stdout",
     "output_type": "stream",
     "text": [
      "[23.064  6.926    nan 46.34   0.201  3.417 61.017  0.308  3.94  11.421\n",
      " 53.731]\n",
      "[[2.771 2.243 0.    4.954 0.754]\n",
      " [2.952 2.196 0.279 6.369 1.546]\n",
      " [2.387 1.532 0.    4.585 0.497]\n",
      " [2.483 1.248 0.    4.    1.497]]\n"
     ]
    },
    {
     "name": "stderr",
     "output_type": "stream",
     "text": [
      "C:\\Users\\Welcome\\Anaconda3\\lib\\site-packages\\sklearn\\feature_selection\\univariate_selection.py:114: UserWarning: Features [2] are constant.\n",
      "  UserWarning)\n",
      "C:\\Users\\Welcome\\Anaconda3\\lib\\site-packages\\sklearn\\feature_selection\\univariate_selection.py:115: RuntimeWarning: invalid value encountered in true_divide\n",
      "  f = msb / msw\n"
     ]
    }
   ],
   "source": [
    "# Feature Selection with Univariate Statistical Tests\n",
    "from pandas import read_csv\n",
    "from numpy import set_printoptions\n",
    "from sklearn.feature_selection import SelectKBest\n",
    "from sklearn.feature_selection import f_classif\n",
    "# load data\n",
    "dataset = pd.read_csv(\"final_rt_feat.csv\")\n",
    "\n",
    "X= dataset.iloc[:, 1:12].values\n",
    "Y = dataset.iloc[:, 13].values\n",
    "# feature extraction\n",
    "test = SelectKBest(score_func=f_classif, k=5)\n",
    "fit = test.fit(X, Y)\n",
    "# summarize scores\n",
    "set_printoptions(precision=3)\n",
    "print(fit.scores_)\n",
    "features = fit.transform(X)\n",
    "# summarize selected features\n",
    "print(features[0:4,:])"
   ]
  },
  {
   "cell_type": "code",
   "execution_count": 14,
   "metadata": {},
   "outputs": [
    {
     "name": "stdout",
     "output_type": "stream",
     "text": [
      "10\n"
     ]
    }
   ],
   "source": [
    "print(len(dataset.columns))"
   ]
  },
  {
   "cell_type": "code",
   "execution_count": 75,
   "metadata": {},
   "outputs": [
    {
     "name": "stdout",
     "output_type": "stream",
     "text": [
      "Num Features: 3\n",
      "Selected Features: [ True  True False  True False False False]\n",
      "Feature Ranking: [1 1 3 1 2 5 4]\n"
     ]
    }
   ],
   "source": [
    "# Feature Extraction with RFE\n",
    "from pandas import read_csv\n",
    "from sklearn.feature_selection import RFE\n",
    "from sklearn.linear_model import LogisticRegression\n",
    "# load data\n",
    "dataset = pd.read_csv(\"final_temp_feat.csv\")\n",
    "#print(len(dataset.columns))\n",
    "dataset.fillna(0.999, inplace=True)\n",
    "X = dataset.iloc[:, 1:8].values\n",
    "Y = dataset.iloc[:, 9].values\n",
    "# feature extraction\n",
    "#model = LogisticRegression(solver='lbfgs')\n",
    "model =RandomForestClassifier(n_estimators=200)\n",
    "rfe = RFE(model, 3)\n",
    "fit = rfe.fit(X, Y)\n",
    "print(\"Num Features: %d\" % fit.n_features_)\n",
    "print(\"Selected Features: %s\" % fit.support_)\n",
    "print(\"Feature Ranking: %s\" % fit.ranking_)"
   ]
  },
  {
   "cell_type": "code",
   "execution_count": 81,
   "metadata": {},
   "outputs": [
    {
     "name": "stdout",
     "output_type": "stream",
     "text": [
      "[0.153 0.291 0.064 0.281 0.102 0.051 0.058]\n"
     ]
    }
   ],
   "source": [
    "# Feature Importance with Extra Trees Classifier\n",
    "from pandas import read_csv\n",
    "from sklearn.ensemble import ExtraTreesClassifier\n",
    "# load data\n",
    "# load data\n",
    "dataset = pd.read_csv(\"final_temp_feat.csv\")\n",
    "#print(len(dataset.columns))\n",
    "dataset.fillna(0.999, inplace=True)\n",
    "X = dataset.iloc[:, 1:8].values\n",
    "Y = dataset.iloc[:, 9].values\n",
    "# feature extraction\n",
    "#model = ExtraTreesClassifier(n_estimators=10)\n",
    "model =RandomForestClassifier(n_estimators=100)\n",
    "model.fit(X, Y)\n",
    "print(model.feature_importances_)"
   ]
  },
  {
   "cell_type": "code",
   "execution_count": 4,
   "metadata": {},
   "outputs": [],
   "source": [
    "#add rows to DataFrame\n",
    "import pandas as pd\n",
    "dataset = pd.read_csv(\"extracted_all_feat.csv\")\n",
    "dataset2 = pd.read_csv(\"extracted_Annual_bonus_feat.csv\")\n",
    "out = dataset.append(dataset2)\n",
    "with open('8.csv', 'w', encoding='utf-8') as f:\n",
    "    out.to_csv(f, index=False)\n",
    "    "
   ]
  },
  {
   "cell_type": "code",
   "execution_count": 22,
   "metadata": {},
   "outputs": [
    {
     "name": "stdout",
     "output_type": "stream",
     "text": [
      "Decision Tree: 0.907662\n",
      "Random Forest: 0.975210\n",
      "Logistic Regression: 0.976015\n",
      "Gradient Boosting: 0.970853\n",
      "Linear Discriminant Analysis: 0.968534\n",
      "KNN: 0.931575\n",
      "SVM: 0.604925\n"
     ]
    }
   ],
   "source": [
    "# Spot Check Algorithms\n",
    "models = []\n",
    "models.append(('Decision Tree', DecisionTreeClassifier(class_weight=\"balanced\")))\n",
    "\n",
    "#models.append(('Random Forest', RandomForestClassifier(n_estimators=100)))\n",
    "models.append(('Random Forest',RandomForestClassifier(n_estimators=200, max_depth=3, random_state=0,class_weight=\"balanced\")))\n",
    "#models.append(('Logistic Regression', LogisticRegression(solver='lbfgs')))\n",
    "models.append(('Logistic Regression', LogisticRegression(penalty='l1',dual=False,max_iter=110, solver='liblinear',class_weight=\"balanced\")))\n",
    "models.append(('Gradient Boosting', GradientBoostingClassifier()))\n",
    "models.append(('Linear Discriminant Analysis', LinearDiscriminantAnalysis()))\n",
    "\n",
    "models.append(('KNN', KNeighborsClassifier()))\n",
    "models.append(('SVM', SVC(gamma='auto')))\n",
    "\n",
    "# evaluate each model in turn\n",
    "results = []\n",
    "names = []\n",
    "for name, model in models:\n",
    "    kfold = StratifiedKFold(n_splits=10, random_state=1)\n",
    "    cv_results = cross_val_score(model, X_train, Y_train, cv=kfold, scoring='roc_auc')\n",
    "    results.append(cv_results)\n",
    "    names.append(name)\n",
    "    print('%s: %f' % (name, cv_results.mean()))"
   ]
  },
  {
   "cell_type": "code",
   "execution_count": 4,
   "metadata": {},
   "outputs": [
    {
     "name": "stdout",
     "output_type": "stream",
     "text": [
      "Decision Tree: 0.901056\n",
      "Random Forest: 0.937340\n",
      "Logistic Regression: 0.917094\n",
      "Gradient Boosting: 0.929299\n",
      "Linear Discriminant Analysis: 0.927218\n",
      "KNN: 0.890971\n",
      "SVM: 0.626253\n"
     ]
    }
   ],
   "source": [
    "# Spot Check Algorithms\n",
    "models = []\n",
    "models.append(('Decision Tree', DecisionTreeClassifier(class_weight=\"balanced\")))\n",
    "\n",
    "#models.append(('Random Forest', RandomForestClassifier(n_estimators=100)))\n",
    "models.append(('Random Forest',RandomForestClassifier(n_estimators=200, max_depth=3, random_state=0,class_weight=\"balanced\")))\n",
    "#models.append(('Logistic Regression', LogisticRegression(solver='lbfgs')))\n",
    "models.append(('Logistic Regression', LogisticRegression(penalty='l1',dual=False,max_iter=110, solver='liblinear',class_weight=\"balanced\")))\n",
    "models.append(('Gradient Boosting', GradientBoostingClassifier()))\n",
    "models.append(('Linear Discriminant Analysis', LinearDiscriminantAnalysis()))\n",
    "\n",
    "models.append(('KNN', KNeighborsClassifier()))\n",
    "models.append(('SVM', SVC(gamma='auto')))\n",
    "\n",
    "# evaluate each model in turn\n",
    "results = []\n",
    "names = []\n",
    "for name, model in models:\n",
    "    kfold = StratifiedKFold(n_splits=10, random_state=1)\n",
    "    cv_results = cross_val_score(model, X_train, Y_train, cv=kfold, scoring='accuracy')\n",
    "    results.append(cv_results)\n",
    "    names.append(name)\n",
    "    print('%s: %f' % (name, cv_results.mean()))"
   ]
  },
  {
   "cell_type": "code",
   "execution_count": 12,
   "metadata": {},
   "outputs": [
    {
     "name": "stdout",
     "output_type": "stream",
     "text": [
      "Decision Tree: 0.902632\n",
      "Random Forest: 0.943421\n",
      "Logistic Regression: 0.928158\n",
      "Gradient Boosting: 0.918158\n",
      "Linear Discriminant Analysis: 0.918158\n",
      "KNN: 0.562105\n",
      "SVM: 0.010263\n"
     ]
    }
   ],
   "source": [
    "# Spot Check Algorithms\n",
    "models = []\n",
    "models.append(('Decision Tree', DecisionTreeClassifier(class_weight=\"balanced\")))\n",
    "\n",
    "#models.append(('Random Forest', RandomForestClassifier(n_estimators=100)))\n",
    "models.append(('Random Forest',RandomForestClassifier(n_estimators=200, max_depth=3, random_state=0,class_weight=\"balanced\")))\n",
    "#models.append(('Logistic Regression', LogisticRegression(solver='lbfgs')))\n",
    "models.append(('Logistic Regression', LogisticRegression(penalty='l1',dual=False,max_iter=110, solver='liblinear',class_weight=\"balanced\")))\n",
    "models.append(('Gradient Boosting', GradientBoostingClassifier()))\n",
    "models.append(('Linear Discriminant Analysis', LinearDiscriminantAnalysis()))\n",
    "\n",
    "models.append(('KNN', KNeighborsClassifier()))\n",
    "models.append(('SVM', SVC(gamma='auto')))\n",
    "\n",
    "# evaluate each model in turn\n",
    "results = []\n",
    "names = []\n",
    "for name, model in models:\n",
    "    kfold = StratifiedKFold(n_splits=10, random_state=1)\n",
    "    cv_results = cross_val_score(model, X_train, Y_train, cv=kfold, scoring='recall')\n",
    "    results.append(cv_results)\n",
    "    names.append(name)\n",
    "    print('%s: %f' % (name, cv_results.mean()))"
   ]
  },
  {
   "cell_type": "code",
   "execution_count": 18,
   "metadata": {},
   "outputs": [
    {
     "name": "stdout",
     "output_type": "stream",
     "text": [
      "Decision Tree: 0.888012\n",
      "Random Forest: 0.922642\n",
      "Logistic Regression: 0.900907\n",
      "Gradient Boosting: 0.913631\n",
      "Linear Discriminant Analysis: 0.909262\n",
      "KNN: 0.556737\n"
     ]
    },
    {
     "name": "stderr",
     "output_type": "stream",
     "text": [
      "C:\\Users\\Welcome\\Anaconda3\\lib\\site-packages\\sklearn\\metrics\\classification.py:1437: UndefinedMetricWarning: F-score is ill-defined and being set to 0.0 due to no predicted samples.\n",
      "  'precision', 'predicted', average, warn_for)\n",
      "C:\\Users\\Welcome\\Anaconda3\\lib\\site-packages\\sklearn\\metrics\\classification.py:1437: UndefinedMetricWarning: F-score is ill-defined and being set to 0.0 due to no predicted samples.\n",
      "  'precision', 'predicted', average, warn_for)\n",
      "C:\\Users\\Welcome\\Anaconda3\\lib\\site-packages\\sklearn\\metrics\\classification.py:1437: UndefinedMetricWarning: F-score is ill-defined and being set to 0.0 due to no predicted samples.\n",
      "  'precision', 'predicted', average, warn_for)\n",
      "C:\\Users\\Welcome\\Anaconda3\\lib\\site-packages\\sklearn\\metrics\\classification.py:1437: UndefinedMetricWarning: F-score is ill-defined and being set to 0.0 due to no predicted samples.\n",
      "  'precision', 'predicted', average, warn_for)\n",
      "C:\\Users\\Welcome\\Anaconda3\\lib\\site-packages\\sklearn\\metrics\\classification.py:1437: UndefinedMetricWarning: F-score is ill-defined and being set to 0.0 due to no predicted samples.\n",
      "  'precision', 'predicted', average, warn_for)\n",
      "C:\\Users\\Welcome\\Anaconda3\\lib\\site-packages\\sklearn\\metrics\\classification.py:1437: UndefinedMetricWarning: F-score is ill-defined and being set to 0.0 due to no predicted samples.\n",
      "  'precision', 'predicted', average, warn_for)\n"
     ]
    },
    {
     "name": "stdout",
     "output_type": "stream",
     "text": [
      "SVM: 0.019524\n"
     ]
    },
    {
     "name": "stderr",
     "output_type": "stream",
     "text": [
      "C:\\Users\\Welcome\\Anaconda3\\lib\\site-packages\\sklearn\\metrics\\classification.py:1437: UndefinedMetricWarning: F-score is ill-defined and being set to 0.0 due to no predicted samples.\n",
      "  'precision', 'predicted', average, warn_for)\n",
      "C:\\Users\\Welcome\\Anaconda3\\lib\\site-packages\\sklearn\\metrics\\classification.py:1437: UndefinedMetricWarning: F-score is ill-defined and being set to 0.0 due to no predicted samples.\n",
      "  'precision', 'predicted', average, warn_for)\n"
     ]
    }
   ],
   "source": [
    "# Spot Check Algorithms\n",
    "models = []\n",
    "models.append(('Decision Tree', DecisionTreeClassifier(class_weight=\"balanced\")))\n",
    "\n",
    "#models.append(('Random Forest', RandomForestClassifier(n_estimators=100)))\n",
    "models.append(('Random Forest',RandomForestClassifier(n_estimators=200, max_depth=3, random_state=0,class_weight=\"balanced\")))\n",
    "#models.append(('Logistic Regression', LogisticRegression(solver='lbfgs')))\n",
    "models.append(('Logistic Regression', LogisticRegression(penalty='l1',dual=False,max_iter=110, solver='liblinear',class_weight=\"balanced\")))\n",
    "models.append(('Gradient Boosting', GradientBoostingClassifier()))\n",
    "models.append(('Linear Discriminant Analysis', LinearDiscriminantAnalysis()))\n",
    "\n",
    "models.append(('KNN', KNeighborsClassifier()))\n",
    "models.append(('SVM', SVC(gamma='auto')))\n",
    "\n",
    "# evaluate each model in turn\n",
    "results = []\n",
    "names = []\n",
    "for name, model in models:\n",
    "    kfold = StratifiedKFold(n_splits=10, random_state=1)\n",
    "    cv_results = cross_val_score(model, X_train, Y_train, cv=kfold, scoring='f1')\n",
    "    results.append(cv_results)\n",
    "    names.append(name)\n",
    "    print('%s: %f' % (name, cv_results.mean()))"
   ]
  },
  {
   "cell_type": "code",
   "execution_count": null,
   "metadata": {},
   "outputs": [],
   "source": []
  }
 ],
 "metadata": {
  "kernelspec": {
   "display_name": "Python 3",
   "language": "python",
   "name": "python3"
  },
  "language_info": {
   "codemirror_mode": {
    "name": "ipython",
    "version": 3
   },
   "file_extension": ".py",
   "mimetype": "text/x-python",
   "name": "python",
   "nbconvert_exporter": "python",
   "pygments_lexer": "ipython3",
   "version": "3.7.3"
  }
 },
 "nbformat": 4,
 "nbformat_minor": 4
}
