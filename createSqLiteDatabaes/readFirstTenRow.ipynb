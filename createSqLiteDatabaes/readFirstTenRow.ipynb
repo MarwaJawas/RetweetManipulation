{
 "cells": [
  {
   "cell_type": "code",
   "execution_count": 1,
   "metadata": {},
   "outputs": [
    {
     "name": "stdout",
     "output_type": "stream",
     "text": [
      ".\n",
      "\n",
      "بمناسبة فوز الهلال 💙💙💙\n",
      "\n",
      "سحب على مبلغ \"كاش💰\" \n",
      "لمتابعيني.\n",
      "بدون شروط والاختيار من الرتويت👏🏻.\n",
      "\n",
      "-\n",
      "السحب بيكون موثق با… https://t.co/7OYvU4fdno\n",
      "الملعب ملعبه والشباك تعرفه\n",
      "ادواردو والجوهرة قصة هيام لاتنتهي 💙\n",
      "#الاتحاد_الهلال_الدوري\n",
      " https://t.co/lZ4l5E8FdY\n",
      "بمناسبة فوز #الهلال وتأكيد الصدارة 💙\n",
      "#مسابقه وسحب على 1000 ريال💰\n",
      "لمتابعي كشكول فقط 👍🏻\n",
      "الفائز الأول:  500 ريال💰\n",
      "الفا… https://t.co/bjip60jdAk\n",
      "بمناسبة فوز الزعيم والصدارة 💪💙\n",
      "لعيونكم سحب على جوال 📱\n",
      "بدون شروط والسحب من الرتويت على المثبته 📌\n",
      "#الاتحاد_الهلال_الدوري\n",
      "خذ الكليجا من اهلها\n",
      " #الاتحاد_الهلال_الدوري https://t.co/AjyKe6UJzQ\n",
      "بمناسبة فوز الزعيم والصدارة 💪💙\n",
      "لعيونكم سحب على جوال 📱\n",
      "بدون شروط والسحب من الرتويت على المثبته 📌\n",
      "#الاتحاد_الهلال_الدوري\n",
      "تلعب في الجوهرة أو في المحيط\n",
      "الموضوع بالنسبة للزعيـم بسيط\n",
      "\n",
      " #الاتحاد_الهلال_الدوري\n",
      "عندما يرتمي اعلام الاتحاد وجماهيره في احضان الهلال ويتخلون عن ناديهم \n",
      "بلاشك سيظهر العميد بلاروح بلا طموح وسيعود ينا… https://t.co/3qK8KEziP1\n"
     ]
    },
    {
     "ename": "StopIteration",
     "evalue": "",
     "output_type": "error",
     "traceback": [
      "\u001b[1;31m---------------------------------------------------------------------------\u001b[0m",
      "\u001b[1;31mStopIteration\u001b[0m                             Traceback (most recent call last)",
      "\u001b[1;32m<ipython-input-1-a5bc9517179a>\u001b[0m in \u001b[0;36m<module>\u001b[1;34m\u001b[0m\n\u001b[0;32m      8\u001b[0m \u001b[1;32mwith\u001b[0m \u001b[0mopen\u001b[0m\u001b[1;33m(\u001b[0m\u001b[1;34m'Rest_retweet_20190922-120345.json'\u001b[0m\u001b[1;33m,\u001b[0m\u001b[1;34m'r'\u001b[0m\u001b[1;33m)\u001b[0m \u001b[1;32mas\u001b[0m \u001b[0mfh\u001b[0m\u001b[1;33m:\u001b[0m\u001b[1;33m\u001b[0m\u001b[1;33m\u001b[0m\u001b[0m\n\u001b[0;32m      9\u001b[0m     \u001b[1;32mfor\u001b[0m \u001b[0mi\u001b[0m \u001b[1;32min\u001b[0m \u001b[0mrange\u001b[0m\u001b[1;33m(\u001b[0m\u001b[1;36m10\u001b[0m\u001b[1;33m)\u001b[0m\u001b[1;33m:\u001b[0m\u001b[1;33m\u001b[0m\u001b[1;33m\u001b[0m\u001b[0m\n\u001b[1;32m---> 10\u001b[1;33m         \u001b[0mline\u001b[0m \u001b[1;33m=\u001b[0m \u001b[0mnext\u001b[0m\u001b[1;33m(\u001b[0m\u001b[0mfh\u001b[0m\u001b[1;33m)\u001b[0m\u001b[1;33m\u001b[0m\u001b[1;33m\u001b[0m\u001b[0m\n\u001b[0m\u001b[0;32m     11\u001b[0m \u001b[1;33m\u001b[0m\u001b[0m\n\u001b[0;32m     12\u001b[0m         \u001b[1;32mif\u001b[0m \u001b[0mline\u001b[0m\u001b[1;33m.\u001b[0m\u001b[0mstrip\u001b[0m\u001b[1;33m(\u001b[0m\u001b[1;33m)\u001b[0m\u001b[1;33m:\u001b[0m\u001b[1;33m\u001b[0m\u001b[1;33m\u001b[0m\u001b[0m\n",
      "\u001b[1;31mStopIteration\u001b[0m: "
     ]
    }
   ],
   "source": [
    "#filter only retweet object and then store and insert data from json file into sqlite3\n",
    "import sqlite3 as lite\n",
    "import sys\n",
    "import json\n",
    "\n",
    "\n",
    "    \n",
    "with open('Rest_retweet_20190922-120345.json','r') as fh:\n",
    "    for i in range(10):\n",
    "        line = next(fh)\n",
    "        \n",
    "        if line.strip():\n",
    "            tweet_read=json.loads(line)\n",
    "                \n",
    "            if \"retweeted_status\" in tweet_read.keys():\n",
    "                \n",
    "                    #tweet object\n",
    "                if \"text\" in tweet_read.keys():\n",
    "                    tweet_text=tweet_read[\"retweeted_status\"][\"text\"]\n",
    "                    print(tweet_text)\n",
    "                    \n",
    "                    \n",
    "                else:\n",
    "                    tweet_text=tweet_read[\"retweeted_status\"][\"full_text\"]\n",
    "                    print(tweet_text)\n",
    "            \n",
    "            else:\n",
    "                continue        \n",
    "             \n",
    "        else: \n",
    "            continue\n",
    "print(\"finishing...\") \n",
    "        "
   ]
  },
  {
   "cell_type": "code",
   "execution_count": null,
   "metadata": {},
   "outputs": [],
   "source": []
  }
 ],
 "metadata": {
  "kernelspec": {
   "display_name": "Python 3",
   "language": "python",
   "name": "python3"
  },
  "language_info": {
   "codemirror_mode": {
    "name": "ipython",
    "version": 3
   },
   "file_extension": ".py",
   "mimetype": "text/x-python",
   "name": "python",
   "nbconvert_exporter": "python",
   "pygments_lexer": "ipython3",
   "version": "3.7.3"
  }
 },
 "nbformat": 4,
 "nbformat_minor": 4
}
