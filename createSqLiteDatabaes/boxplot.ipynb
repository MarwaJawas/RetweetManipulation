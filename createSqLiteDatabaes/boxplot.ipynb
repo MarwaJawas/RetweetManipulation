{
 "cells": [
  {
   "cell_type": "code",
   "execution_count": 1,
   "metadata": {},
   "outputs": [
    {
     "name": "stdout",
     "output_type": "stream",
     "text": [
      "median value of ferquency of retweets:   1.0\n",
      "average value ferquency of retweets   :  1.8821210738143646\n",
      "The SQLite connection is closed\n"
     ]
    }
   ],
   "source": [
    "#compute total number of retweeter , median ,and average value of ferquency of retweets\n",
    "import sqlite3 \n",
    "import sys\n",
    "import statistics as st\n",
    "\n",
    "\n",
    "try:\n",
    "    #sqliteConnection = sqlite3.connect('Retweet_manipulation3.db')\n",
    "    #sqliteConnection = sqlite3.connect('amar_malki.db')\n",
    "    sqliteConnection = sqlite3.connect('hashtag_abdulaziz.db')\n",
    "    cursor = sqliteConnection.cursor()\n",
    "    \n",
    "    \n",
    "    cursor.execute('''SELECT count_retweet FROM \n",
    "                ( SELECT  count (*) as count_retweet FROM retweet group by retweeter_id HAVING COUNT(* )>0)\n",
    "                   ORDER BY count_retweet  ''')\n",
    "    records = cursor.fetchall()\n",
    "    \n",
    "    fer_abdulaziz=[item[0] for item in records]\n",
    "    \n",
    "    median_value= st.median(fer_abdulaziz)\n",
    "    print(\"median value of ferquency of retweets:  \" , median_value) \n",
    "    \n",
    "    cursor.execute('''SELECT avg(count_retweet) FROM \n",
    "                                              ( SELECT  count (*) as count_retweet \n",
    "                                               FROM retweet group by retweeter_id HAVING COUNT(* )>0)''')\n",
    "    records = cursor.fetchall()\n",
    "    print (\"average value ferquency of retweets   : \",records[0][0])    \n",
    "\n",
    "    cursor.close()\n",
    "\n",
    "except sqlite3.Error as error:\n",
    "    print(\"Failed to read data from sqlite table\", error)\n",
    "finally:\n",
    "    if (sqliteConnection):\n",
    "        sqliteConnection.close()\n",
    "        print(\"The SQLite connection is closed\")\n",
    "\n"
   ]
  },
  {
   "cell_type": "code",
   "execution_count": 2,
   "metadata": {},
   "outputs": [
    {
     "name": "stdout",
     "output_type": "stream",
     "text": [
      "median value of ferquency of retweets:   1.0\n",
      "average value ferquency of retweets   :  3.103923029576598\n",
      "The SQLite connection is closed\n"
     ]
    }
   ],
   "source": [
    "#compute total number of retweeter , median ,and average value of ferquency of retweets\n",
    "import sqlite3 \n",
    "import sys\n",
    "import statistics as st\n",
    "\n",
    "\n",
    "try:\n",
    "    #sqliteConnection = sqlite3.connect('Retweet_manipulation3.db')\n",
    "    #sqliteConnection = sqlite3.connect('amar_malki.db')\n",
    "    sqliteConnection = sqlite3.connect('Retweet_manipulation3.db')\n",
    "    cursor = sqliteConnection.cursor()\n",
    "    \n",
    "    \n",
    "    cursor.execute('''SELECT count_retweet FROM \n",
    "                ( SELECT  count (*) as count_retweet FROM retweet group by retweeter_id HAVING COUNT(* )>0)\n",
    "                   ORDER BY count_retweet  ''')\n",
    "    records = cursor.fetchall()\n",
    "    \n",
    "    fer_alheila=[item[0] for item in records]\n",
    "    \n",
    "    median_value= st.median(fer_alheila)\n",
    "    print(\"median value of ferquency of retweets:  \" , median_value) \n",
    "    \n",
    "    cursor.execute('''SELECT avg(count_retweet) FROM \n",
    "                                              ( SELECT  count (*) as count_retweet \n",
    "                                               FROM retweet group by retweeter_id HAVING COUNT(* )>0)''')\n",
    "    records = cursor.fetchall()\n",
    "    print (\"average value ferquency of retweets   : \",records[0][0])    \n",
    "\n",
    "    cursor.close()\n",
    "\n",
    "except sqlite3.Error as error:\n",
    "    print(\"Failed to read data from sqlite table\", error)\n",
    "finally:\n",
    "    if (sqliteConnection):\n",
    "        sqliteConnection.close()\n",
    "        print(\"The SQLite connection is closed\")\n",
    "\n"
   ]
  },
  {
   "cell_type": "code",
   "execution_count": 3,
   "metadata": {},
   "outputs": [
    {
     "name": "stdout",
     "output_type": "stream",
     "text": [
      "median value of ferquency of retweets:   1.0\n",
      "average value ferquency of retweets   :  1.572933590576767\n",
      "The SQLite connection is closed\n"
     ]
    }
   ],
   "source": [
    "#compute total number of retweeter , median ,and average value of ferquency of retweets\n",
    "import sqlite3 \n",
    "import sys\n",
    "import statistics as st\n",
    "\n",
    "\n",
    "try:\n",
    "    #sqliteConnection = sqlite3.connect('Retweet_manipulation3.db')\n",
    "    #sqliteConnection = sqlite3.connect('amar_malki.db')\n",
    "    sqliteConnection = sqlite3.connect('amar_malki.db')\n",
    "    cursor = sqliteConnection.cursor()\n",
    "    \n",
    "    \n",
    "    cursor.execute('''SELECT count_retweet FROM \n",
    "                ( SELECT  count (*) as count_retweet FROM retweet group by retweeter_id HAVING COUNT(* )>0)\n",
    "                   ORDER BY count_retweet  ''')\n",
    "    records = cursor.fetchall()\n",
    "    \n",
    "    fer_amar_malki=[item[0] for item in records]\n",
    "    \n",
    "    median_value= st.median(fer_amar_malki)\n",
    "    print(\"median value of ferquency of retweets:  \" , median_value) \n",
    "    \n",
    "    cursor.execute('''SELECT avg(count_retweet) FROM \n",
    "                                              ( SELECT  count (*) as count_retweet \n",
    "                                               FROM retweet group by retweeter_id HAVING COUNT(* )>0)''')\n",
    "    records = cursor.fetchall()\n",
    "    print (\"average value ferquency of retweets   : \",records[0][0])    \n",
    "\n",
    "    cursor.close()\n",
    "\n",
    "except sqlite3.Error as error:\n",
    "    print(\"Failed to read data from sqlite table\", error)\n",
    "finally:\n",
    "    if (sqliteConnection):\n",
    "        sqliteConnection.close()\n",
    "        print(\"The SQLite connection is closed\")\n",
    "\n"
   ]
  },
  {
   "cell_type": "code",
   "execution_count": 4,
   "metadata": {},
   "outputs": [
    {
     "name": "stdout",
     "output_type": "stream",
     "text": [
      "median value of ferquency of retweets:   1\n",
      "average value ferquency of retweets   :  2.4671685002895196\n",
      "The SQLite connection is closed\n"
     ]
    }
   ],
   "source": [
    "#compute total number of retweeter , median ,and average value of ferquency of retweets\n",
    "import sqlite3 \n",
    "import sys\n",
    "import statistics as st\n",
    "\n",
    "\n",
    "try:\n",
    "    #sqliteConnection = sqlite3.connect('Retweet_manipulation3.db')\n",
    "    #sqliteConnection = sqlite3.connect('amar_malki.db')\n",
    "    sqliteConnection = sqlite3.connect('aletihad_alhilal.db')\n",
    "    cursor = sqliteConnection.cursor()\n",
    "    \n",
    "    \n",
    "    cursor.execute('''SELECT count_retweet FROM \n",
    "                ( SELECT  count (*) as count_retweet FROM retweet group by retweeter_id HAVING COUNT(* )>0)\n",
    "                   ORDER BY count_retweet  ''')\n",
    "    records = cursor.fetchall()\n",
    "    \n",
    "    fer_aletihad_alhilal=[item[0] for item in records]\n",
    "    \n",
    "    median_value= st.median(fer_aletihad_alhilal)\n",
    "    print(\"median value of ferquency of retweets:  \" , median_value) \n",
    "    \n",
    "    cursor.execute('''SELECT avg(count_retweet) FROM \n",
    "                                              ( SELECT  count (*) as count_retweet \n",
    "                                               FROM retweet group by retweeter_id HAVING COUNT(* )>0)''')\n",
    "    records = cursor.fetchall()\n",
    "    print (\"average value ferquency of retweets   : \",records[0][0])    \n",
    "\n",
    "    cursor.close()\n",
    "\n",
    "except sqlite3.Error as error:\n",
    "    print(\"Failed to read data from sqlite table\", error)\n",
    "finally:\n",
    "    if (sqliteConnection):\n",
    "        sqliteConnection.close()\n",
    "        print(\"The SQLite connection is closed\")\n",
    "\n"
   ]
  },
  {
   "cell_type": "code",
   "execution_count": 5,
   "metadata": {},
   "outputs": [
    {
     "name": "stdout",
     "output_type": "stream",
     "text": [
      "median value of ferquency of retweets:   1.0\n",
      "average value ferquency of retweets   :  1.660197263760738\n",
      "The SQLite connection is closed\n"
     ]
    }
   ],
   "source": [
    "#compute total number of retweeter , median ,and average value of ferquency of retweets\n",
    "import sqlite3 \n",
    "import sys\n",
    "import statistics as st\n",
    "\n",
    "\n",
    "try:\n",
    "    #sqliteConnection = sqlite3.connect('Retweet_manipulation3.db')\n",
    "    #sqliteConnection = sqlite3.connect('amar_malki.db')\n",
    "    sqliteConnection = sqlite3.connect('Saudi_Qatar.db')\n",
    "    cursor = sqliteConnection.cursor()\n",
    "    \n",
    "    \n",
    "    cursor.execute('''SELECT count_retweet FROM \n",
    "                ( SELECT  count (*) as count_retweet FROM retweet group by retweeter_id HAVING COUNT(* )>0)\n",
    "                   ORDER BY count_retweet  ''')\n",
    "    records = cursor.fetchall()\n",
    "    \n",
    "    fer_Saudi_Qatar=[item[0] for item in records]\n",
    "    \n",
    "    median_value= st.median(fer_Saudi_Qatar)\n",
    "    print(\"median value of ferquency of retweets:  \" , median_value) \n",
    "    \n",
    "    cursor.execute('''SELECT avg(count_retweet) FROM \n",
    "                                              ( SELECT  count (*) as count_retweet \n",
    "                                               FROM retweet group by retweeter_id HAVING COUNT(* )>0)''')\n",
    "    records = cursor.fetchall()\n",
    "    print (\"average value ferquency of retweets   : \",records[0][0])    \n",
    "\n",
    "    cursor.close()\n",
    "\n",
    "except sqlite3.Error as error:\n",
    "    print(\"Failed to read data from sqlite table\", error)\n",
    "finally:\n",
    "    if (sqliteConnection):\n",
    "        sqliteConnection.close()\n",
    "        print(\"The SQLite connection is closed\")\n",
    "\n"
   ]
  },
  {
   "cell_type": "code",
   "execution_count": 6,
   "metadata": {},
   "outputs": [
    {
     "name": "stdout",
     "output_type": "stream",
     "text": [
      "median value of ferquency of retweets:   1.0\n",
      "average value ferquency of retweets   :  2.3119328493647915\n",
      "The SQLite connection is closed\n"
     ]
    }
   ],
   "source": [
    "#compute total number of retweeter , median ,and average value of ferquency of retweets\n",
    "import sqlite3 \n",
    "import sys\n",
    "import statistics as st\n",
    "\n",
    "\n",
    "try:\n",
    "    #sqliteConnection = sqlite3.connect('Retweet_manipulation3.db')\n",
    "    #sqliteConnection = sqlite3.connect('amar_malki.db')\n",
    "    sqliteConnection = sqlite3.connect('Annual_bonus.db')\n",
    "    cursor = sqliteConnection.cursor()\n",
    "    \n",
    "    \n",
    "    cursor.execute('''SELECT count_retweet FROM \n",
    "                ( SELECT  count (*) as count_retweet FROM retweet group by retweeter_id HAVING COUNT(* )>0)\n",
    "                   ORDER BY count_retweet  ''')\n",
    "    records = cursor.fetchall()\n",
    "    \n",
    "    fer_Annual_bonus=[item[0] for item in records]\n",
    "    \n",
    "    median_value= st.median(fer_Annual_bonus)\n",
    "    print(\"median value of ferquency of retweets:  \" , median_value) \n",
    "    \n",
    "    cursor.execute('''SELECT avg(count_retweet) FROM \n",
    "                                              ( SELECT  count (*) as count_retweet \n",
    "                                               FROM retweet group by retweeter_id HAVING COUNT(* )>0)''')\n",
    "    records = cursor.fetchall()\n",
    "    print (\"average value ferquency of retweets   : \",records[0][0])    \n",
    "\n",
    "    cursor.close()\n",
    "\n",
    "except sqlite3.Error as error:\n",
    "    print(\"Failed to read data from sqlite table\", error)\n",
    "finally:\n",
    "    if (sqliteConnection):\n",
    "        sqliteConnection.close()\n",
    "        print(\"The SQLite connection is closed\")\n",
    "\n"
   ]
  },
  {
   "cell_type": "code",
   "execution_count": 7,
   "metadata": {},
   "outputs": [
    {
     "name": "stdout",
     "output_type": "stream",
     "text": [
      "median value of ferquency of retweets:   1.0\n",
      "average value ferquency of retweets   :  1.2635556248052353\n",
      "The SQLite connection is closed\n"
     ]
    }
   ],
   "source": [
    "#compute total number of retweeter , median ,and average value of ferquency of retweets\n",
    "import sqlite3 \n",
    "import sys\n",
    "import statistics as st\n",
    "\n",
    "\n",
    "try:\n",
    "    #sqliteConnection = sqlite3.connect('Retweet_manipulation3.db')\n",
    "    #sqliteConnection = sqlite3.connect('amar_malki.db')\n",
    "    sqliteConnection = sqlite3.connect('third_World_War.db')\n",
    "    cursor = sqliteConnection.cursor()\n",
    "    \n",
    "    \n",
    "    cursor.execute('''SELECT count_retweet FROM \n",
    "                ( SELECT  count (*) as count_retweet FROM retweet group by retweeter_id HAVING COUNT(* )>0)\n",
    "                   ORDER BY count_retweet  ''')\n",
    "    records = cursor.fetchall()\n",
    "    \n",
    "    fer_third_World_War=[item[0] for item in records]\n",
    "    \n",
    "    median_value= st.median(fer_third_World_War)\n",
    "    print(\"median value of ferquency of retweets:  \" , median_value) \n",
    "    \n",
    "    cursor.execute('''SELECT avg(count_retweet) FROM \n",
    "                                              ( SELECT  count (*) as count_retweet \n",
    "                                               FROM retweet group by retweeter_id HAVING COUNT(* )>0)''')\n",
    "    records = cursor.fetchall()\n",
    "    print (\"average value ferquency of retweets   : \",records[0][0])    \n",
    "\n",
    "    cursor.close()\n",
    "\n",
    "except sqlite3.Error as error:\n",
    "    print(\"Failed to read data from sqlite table\", error)\n",
    "finally:\n",
    "    if (sqliteConnection):\n",
    "        sqliteConnection.close()\n",
    "        print(\"The SQLite connection is closed\")\n",
    "\n"
   ]
  },
  {
   "cell_type": "code",
   "execution_count": 8,
   "metadata": {},
   "outputs": [
    {
     "name": "stdout",
     "output_type": "stream",
     "text": [
      "median value of ferquency of retweets:   1.0\n",
      "average value ferquency of retweets   :  1.5412481299422953\n",
      "The SQLite connection is closed\n"
     ]
    }
   ],
   "source": [
    "#compute total number of retweeter , median ,and average value of ferquency of retweets\n",
    "import sqlite3 \n",
    "import sys\n",
    "import statistics as st\n",
    "\n",
    "\n",
    "try:\n",
    "    #sqliteConnection = sqlite3.connect('Retweet_manipulation3.db')\n",
    "    #sqliteConnection = sqlite3.connect('amar_malki.db')\n",
    "    sqliteConnection = sqlite3.connect('jeddah.db')\n",
    "    cursor = sqliteConnection.cursor()\n",
    "    \n",
    "    \n",
    "    cursor.execute('''SELECT count_retweet FROM \n",
    "                ( SELECT  count (*) as count_retweet FROM retweet group by retweeter_id HAVING COUNT(* )>0)\n",
    "                   ORDER BY count_retweet  ''')\n",
    "    records = cursor.fetchall()\n",
    "    \n",
    "    fer_jeddah=[item[0] for item in records]\n",
    "    \n",
    "    median_value= st.median(fer_jeddah)\n",
    "    print(\"median value of ferquency of retweets:  \" , median_value) \n",
    "    \n",
    "    cursor.execute('''SELECT avg(count_retweet) FROM \n",
    "                                              ( SELECT  count (*) as count_retweet \n",
    "                                               FROM retweet group by retweeter_id HAVING COUNT(* )>0)''')\n",
    "    records = cursor.fetchall()\n",
    "    print (\"average value ferquency of retweets   : \",records[0][0])    \n",
    "\n",
    "    cursor.close()\n",
    "\n",
    "except sqlite3.Error as error:\n",
    "    print(\"Failed to read data from sqlite table\", error)\n",
    "finally:\n",
    "    if (sqliteConnection):\n",
    "        sqliteConnection.close()\n",
    "        print(\"The SQLite connection is closed\")\n",
    "\n"
   ]
  },
  {
   "cell_type": "code",
   "execution_count": 6,
   "metadata": {},
   "outputs": [
    {
     "ename": "NameError",
     "evalue": "name 'ferquency_ret_for_rts' is not defined",
     "output_type": "error",
     "traceback": [
      "\u001b[1;31m---------------------------------------------------------------------------\u001b[0m",
      "\u001b[1;31mNameError\u001b[0m                                 Traceback (most recent call last)",
      "\u001b[1;32m<ipython-input-6-77cacde34e5f>\u001b[0m in \u001b[0;36m<module>\u001b[1;34m\u001b[0m\n\u001b[0;32m      8\u001b[0m \u001b[1;31m#data = 5 * randn(10000) + 50\u001b[0m\u001b[1;33m\u001b[0m\u001b[1;33m\u001b[0m\u001b[1;33m\u001b[0m\u001b[0m\n\u001b[0;32m      9\u001b[0m \u001b[1;33m\u001b[0m\u001b[0m\n\u001b[1;32m---> 10\u001b[1;33m \u001b[0mdata\u001b[0m\u001b[1;33m=\u001b[0m\u001b[0mferquency_ret_for_rts\u001b[0m\u001b[1;33m\u001b[0m\u001b[1;33m\u001b[0m\u001b[0m\n\u001b[0m\u001b[0;32m     11\u001b[0m \u001b[1;31m#dataset=sorted(data)\u001b[0m\u001b[1;33m\u001b[0m\u001b[1;33m\u001b[0m\u001b[1;33m\u001b[0m\u001b[0m\n\u001b[0;32m     12\u001b[0m \u001b[1;31m# calculate interquartile range\u001b[0m\u001b[1;33m\u001b[0m\u001b[1;33m\u001b[0m\u001b[1;33m\u001b[0m\u001b[0m\n",
      "\u001b[1;31mNameError\u001b[0m: name 'ferquency_ret_for_rts' is not defined"
     ]
    }
   ],
   "source": [
    "\n",
    "\n",
    "# identify outliers with interquartile range\n",
    "\n",
    "import numpy as np\n",
    "#from numpy import percentile\n",
    "# seed the random number generator\n",
    "#seed(1)\n",
    "# generate univariate observations\n",
    "#data = 5 * randn(10000) + 50\n",
    "\n",
    "data=ferquency_ret_for_rts\n",
    "#dataset=sorted(data)\n",
    "# calculate interquartile range\n",
    "#q1, q3= percentile(dataset,[25,75])\n",
    "#iqr = q3 - q1\n",
    "q25, q75 = np.percentile(data, 25), np.percentile(data, 75)\n",
    "iqr = q75 - q25\n",
    "#print('Percentiles: 25th=%.3f, 75th=%.3f, IQR=%.3f' % (q25, q75, iqr))\n",
    "#print('Percentiles: 25th=%s , 75th=%s , IQR=%s' % (q1, q3, iqr))\n",
    "print('Percentiles: 25th=%s , 75th=%s , IQR=%s' % (q25, q75, iqr))\n",
    "# calculate the outlier cutoff\n",
    "cut_off = iqr * 1.5\n",
    "lower, upper = q25 - cut_off, q75 + cut_off\n",
    "print('lower limit =%s , upper limit =%s' %(lower, upper))\n",
    "# identify outliers\n",
    "outliers = [x for x in data if x < lower or x > upper]\n",
    "#print('outliers values (outliers retweeters): %s' % outliers)\n",
    "print('Identified outliers (outliers retweeters): %d' % len(outliers))\n",
    "# remove outliers\n",
    "outliers_removed = [x for x in data if x >= lower and x <= upper]\n",
    "print('Non-outlier observations (normal retweeters): %d' % len(outliers_removed))"
   ]
  },
  {
   "cell_type": "code",
   "execution_count": 9,
   "metadata": {},
   "outputs": [],
   "source": [
    "import numpy as np\n",
    "import matplotlib.pyplot as plt\n",
    "\n",
    "fig1, ax1 = plt.subplots( figsize=(9, 9))\n",
    "ax1.set_title('boxplot: frequency of retweets for each retweeter ')\n",
    "#green_diamond = dict(markerfacecolor='g', marker='D')\n",
    "green_diamond = dict(markerfacecolor='r')\n",
    "ax1.boxplot(ferquency_ret_for_rts_abdulaziz,flierprops=green_diamond )\n",
    "ax1.yaxis.grid(True)\n",
    "#ax1.set_yticks([y for y in range(len(ferquency_retweets_for_retweeters))])\n",
    "#ax1.set_xlabel('retweeter id')\n",
    "ax1.set_ylabel('retweeting frequency ')\n",
    "plt.savefig('boxplot_hashtage_alhilal.png', dpi=800)"
   ]
  },
  {
   "cell_type": "code",
   "execution_count": 10,
   "metadata": {},
   "outputs": [],
   "source": [
    "import matplotlib as mpl\n",
    "from bidi.algorithm import get_display\n",
    "import matplotlib.pyplot as plt\n",
    "import arabic_reshaper\n",
    "\n",
    "## agg backend is used to create plot as a .png file\n",
    "mpl.use('agg')\n",
    "\n",
    "import matplotlib.pyplot as plt\n",
    "## combine these different collections into a list    \n",
    "#data_to_plot = [fer_alheila, fer_abdulaziz, fer_amar_malki]\n",
    "data_to_plot = [fer_alheila, fer_abdulaziz, fer_amar_malki,fer_Annual_bonus,fer_aletihad_alhilal,fer_Saudi_Qatar,fer_third_World_War,fer_jeddah]\n",
    "# Create a figure instance\n",
    "fig = plt.figure(1, figsize=(12, 12))\n",
    "\n",
    "# Create an axes instance\n",
    "ax = fig.add_subplot(111)\n",
    "\n",
    "\n",
    "# Create the boxplot\n",
    "bp = ax.boxplot(data_to_plot, showfliers=False)\n",
    "## Custom x-axis labels\n",
    "reshaped_text = arabic_reshaper.reshape(u'#الهلال_اوراوا_ذهاب_ابطال_اسيا')\n",
    "hashtage_alhilal= get_display(reshaped_text)\n",
    "\n",
    "reshaped_text2 = arabic_reshaper.reshape(u'#عبدالعزيز_الفغم')\n",
    "hashtage_abdulaziz= get_display(reshaped_text2)\n",
    "\n",
    "reshaped_text3 = arabic_reshaper.reshape(u'#امر_ملكي')\n",
    "hashtage_amar_malki= get_display(reshaped_text3)\n",
    "\n",
    "reshaped_text4 = arabic_reshaper.reshape(u'#العلاوة_السنوية10')\n",
    "hashtage_Annual_bonus= get_display(reshaped_text4)\n",
    "\n",
    "reshaped_text5 = arabic_reshaper.reshape(u'#الاتحاد_الهلال_الدوري')\n",
    "hashtage_aletihad_alhilal= get_display(reshaped_text5)\n",
    "\n",
    "reshaped_text6 = arabic_reshaper.reshape(u'#السعودية_قطر')\n",
    "hashtage_Saudi_Qatar= get_display(reshaped_text6)\n",
    "\n",
    "reshaped_text7 = arabic_reshaper.reshape(u'#الحرب_العالمية_الثالثة')\n",
    "hashtage_third_World_War= get_display(reshaped_text7)\n",
    "\n",
    "reshaped_text8 = arabic_reshaper.reshape(u'#بجدة')\n",
    "hashtage_jeddah= get_display(reshaped_text8)\n",
    "\n",
    "ax.set_xticklabels([hashtage_alhilal, hashtage_abdulaziz , hashtage_amar_malki,hashtage_Annual_bonus,hashtage_aletihad_alhilal,hashtage_Saudi_Qatar,hashtage_third_World_War,hashtage_jeddah],rotation=45)\n",
    "#ax.set_xticklabels([hashtage_alhilal, hashtage_abdulaziz , hashtage_amar_malki])\n",
    "#ax.text.x([hashtage_alhilal, hashtage_abdulaziz , hashtage_amar_malki])\n",
    "#ax.get_xaxis().tick_bottom()\n",
    "#ax.get_yaxis().tick_left()\n",
    "\n",
    "ax.set_ylabel('The number of frequency of retweeting per user ')\n",
    "#ax.set_title('boxplot: frequency of retweeting per user in each hashtage ')\n",
    "## add patch_artist=True option to ax.boxplot() \n",
    "## to get fill color\n",
    "## add patch_artist=True option to ax.boxplot() \n",
    "## to get fill color\n",
    "bp = ax.boxplot(data_to_plot, patch_artist=True)\n",
    "\n",
    "## change outline color, fill color and linewidth of the boxes\n",
    "for box in bp['boxes']:\n",
    "    # change outline color\n",
    "    box.set( color='#7570b3', linewidth=2)\n",
    "    # change fill color\n",
    "    box.set( facecolor = '#1b9e77' )\n",
    "\n",
    "## change color and linewidth of the whiskers\n",
    "for whisker in bp['whiskers']:\n",
    "    whisker.set(color='#7570b3', linewidth=2)\n",
    "\n",
    "## change color and linewidth of the caps\n",
    "for cap in bp['caps']:\n",
    "    cap.set(color='#7570b3', linewidth=2)\n",
    "\n",
    "## change color and linewidth of the medians\n",
    "for median in bp['medians']:\n",
    "    median.set(color='#b2df8a', linewidth=2)\n",
    "\n",
    "## change the style of fliers and their fill\n",
    "for flier in bp['fliers']:\n",
    "    flier.set(markerfacecolor='#b967ff')\n",
    "\n",
    "# Save the figure\n",
    "#fig.savefig('fig1.png', bbox_inches='tight',dpi=800)\n",
    "fig.savefig('frequency_retweeting_highResoulation.png', bbox_inches='tight',dpi=2000)"
   ]
  },
  {
   "cell_type": "code",
   "execution_count": 10,
   "metadata": {},
   "outputs": [
    {
     "ename": "NameError",
     "evalue": "name 'data' is not defined",
     "output_type": "error",
     "traceback": [
      "\u001b[1;31m---------------------------------------------------------------------------\u001b[0m",
      "\u001b[1;31mNameError\u001b[0m                                 Traceback (most recent call last)",
      "\u001b[1;32m<ipython-input-10-0a8f67dfeeb7>\u001b[0m in \u001b[0;36m<module>\u001b[1;34m\u001b[0m\n\u001b[0;32m      9\u001b[0m     \u001b[1;32mreturn\u001b[0m \u001b[0mhist\u001b[0m\u001b[1;33m\u001b[0m\u001b[1;33m\u001b[0m\u001b[0m\n\u001b[0;32m     10\u001b[0m \u001b[1;33m\u001b[0m\u001b[0m\n\u001b[1;32m---> 11\u001b[1;33m \u001b[0mcounted\u001b[0m \u001b[1;33m=\u001b[0m \u001b[0mcount_elements\u001b[0m\u001b[1;33m(\u001b[0m\u001b[0mdata\u001b[0m\u001b[1;33m)\u001b[0m\u001b[1;33m\u001b[0m\u001b[1;33m\u001b[0m\u001b[0m\n\u001b[0m\u001b[0;32m     12\u001b[0m \u001b[0mcounted\u001b[0m\u001b[1;33m\u001b[0m\u001b[1;33m\u001b[0m\u001b[0m\n",
      "\u001b[1;31mNameError\u001b[0m: name 'data' is not defined"
     ]
    }
   ],
   "source": [
    "# Need not be sorted, necessarily\n",
    "#a = (0, 1, 1, 1, 2, 3, 7, 7, 23)\n",
    "\n",
    "def count_elements(seq):\n",
    "\n",
    "    hist = {}\n",
    "    for i in seq:\n",
    "        hist[i] = hist.get(i, 0) + 1\n",
    "    return hist\n",
    "\n",
    "counted = count_elements(data)\n",
    "counted"
   ]
  },
  {
   "cell_type": "code",
   "execution_count": 11,
   "metadata": {},
   "outputs": [
    {
     "data": {
      "text/plain": [
       "Counter({1: 5167,\n",
       "         2: 602,\n",
       "         3: 242,\n",
       "         4: 81,\n",
       "         5: 54,\n",
       "         6: 20,\n",
       "         7: 22,\n",
       "         8: 17,\n",
       "         9: 5,\n",
       "         10: 7,\n",
       "         11: 2,\n",
       "         12: 4,\n",
       "         13: 4,\n",
       "         14: 10,\n",
       "         15: 2,\n",
       "         16: 1,\n",
       "         17: 1,\n",
       "         18: 3,\n",
       "         20: 2,\n",
       "         21: 1,\n",
       "         22: 2,\n",
       "         23: 2,\n",
       "         24: 2,\n",
       "         25: 1,\n",
       "         26: 4,\n",
       "         27: 4,\n",
       "         28: 1,\n",
       "         29: 1,\n",
       "         31: 7,\n",
       "         33: 1,\n",
       "         34: 1,\n",
       "         42: 1,\n",
       "         43: 2,\n",
       "         89: 9,\n",
       "         135: 1})"
      ]
     },
     "execution_count": 11,
     "metadata": {},
     "output_type": "execute_result"
    }
   ],
   "source": [
    "from collections import Counter\n",
    "#Counter(ferquency_ret_for_rts_abdulaziz).most_common(10)\n",
    "Counter(ferquency_ret_for_rts_abdulaziz)\n",
    "#recounted = Counter(ferquency_retweets_for_retweeters)\n",
    "#recounted"
   ]
  },
  {
   "cell_type": "code",
   "execution_count": 33,
   "metadata": {},
   "outputs": [
    {
     "ename": "AttributeError",
     "evalue": "'dict' object has no attribute 'most_common'",
     "output_type": "error",
     "traceback": [
      "\u001b[1;31m---------------------------------------------------------------------------\u001b[0m",
      "\u001b[1;31mAttributeError\u001b[0m                            Traceback (most recent call last)",
      "\u001b[1;32m<ipython-input-33-9d3326e33938>\u001b[0m in \u001b[0;36m<module>\u001b[1;34m\u001b[0m\n\u001b[1;32m----> 1\u001b[1;33m \u001b[0mcounted\u001b[0m\u001b[1;33m.\u001b[0m\u001b[0mmost_common\u001b[0m\u001b[1;33m(\u001b[0m\u001b[1;36m10\u001b[0m\u001b[1;33m)\u001b[0m\u001b[1;33m\u001b[0m\u001b[1;33m\u001b[0m\u001b[0m\n\u001b[0m",
      "\u001b[1;31mAttributeError\u001b[0m: 'dict' object has no attribute 'most_common'"
     ]
    }
   ],
   "source": [
    "counted.most_common(10)"
   ]
  },
  {
   "cell_type": "code",
   "execution_count": 28,
   "metadata": {},
   "outputs": [
    {
     "data": {
      "image/png": "[encoded data removed]",
      "text/plain": [
       "<Figure size 432x288 with 1 Axes>"
      ]
     },
     "metadata": {
      "needs_background": "light"
     },
     "output_type": "display_data"
    }
   ],
   "source": [
    "import matplotlib.pyplot as plt\n",
    "\n",
    "\n",
    "plt.bar(*zip(*counted.items()))\n",
    "plt.show()"
   ]
  },
  {
   "cell_type": "code",
   "execution_count": 29,
   "metadata": {},
   "outputs": [
    {
     "data": {
      "text/plain": [
       "<matplotlib.axes._subplots.AxesSubplot at 0xb352cf8>"
      ]
     },
     "execution_count": 29,
     "metadata": {},
     "output_type": "execute_result"
    },
    {
     "data": {
      "image/png": "[encoded data removed]",
      "text/plain": [
       "<Figure size 432x288 with 1 Axes>"
      ]
     },
     "metadata": {
      "needs_background": "light"
     },
     "output_type": "display_data"
    }
   ],
   "source": [
    "import seaborn as sns\n",
    "\n",
    "sns.barplot(list(counted.keys()), list(counted.values()))"
   ]
  },
  {
   "cell_type": "code",
   "execution_count": 15,
   "metadata": {},
   "outputs": [],
   "source": [
    "def ascii_histogram(seq):\n",
    "    \"\"\"A horizontal frequency-table/histogram plot.\"\"\"\n",
    "    counted = count_elements(seq)\n",
    "    for k in sorted(counted):\n",
    "        print('{0:5d} {1}'.format(k, '+' * counted[k]))"
   ]
  },
  {
   "cell_type": "code",
   "execution_count": 16,
   "metadata": {},
   "outputs": [
    {
     "name": "stdout",
     "output_type": "stream",
     "text": [
      "    1 +++++++\n",
      "    3 ++++++++++++++\n",
      "    4 ++++++\n",
      "    6 +++++++++\n",
      "    8 ++++++\n",
      "    9 ++++++++++++\n",
      "   10 ++++++++++++\n"
     ]
    }
   ],
   "source": [
    "import random\n",
    "random.seed(1)\n",
    "\n",
    "vals = [1, 3, 4, 6, 8, 9, 10]\n",
    " # Each number in `vals` will occur between 5 and 15 times.\n",
    "freq = (random.randint(5, 15) for _ in vals)\n",
    "\n",
    "data = []\n",
    "for f, v in zip(freq, vals):\n",
    "    data.extend([v] * f)\n",
    "\n",
    "ascii_histogram(data)"
   ]
  },
  {
   "cell_type": "code",
   "execution_count": 17,
   "metadata": {},
   "outputs": [
    {
     "data": {
      "text/plain": [
       "array([18.406, 18.087, 16.004, 16.221,  7.358])"
      ]
     },
     "execution_count": 17,
     "metadata": {},
     "output_type": "execute_result"
    }
   ],
   "source": [
    "import numpy as np\n",
    "# `numpy.random` uses its own PRNG.\n",
    "np.random.seed(444)\n",
    "np.set_printoptions(precision=3)\n",
    "\n",
    "d = np.random.laplace(loc=15, scale=3, size=500)\n",
    "d[:5]"
   ]
  },
  {
   "cell_type": "code",
   "execution_count": 25,
   "metadata": {},
   "outputs": [
    {
     "data": {
      "text/plain": [
       "array([ 13,  23,  91, 261,  80,  21,   7,   2,   1,   1], dtype=int64)"
      ]
     },
     "execution_count": 25,
     "metadata": {},
     "output_type": "execute_result"
    }
   ],
   "source": [
    "hist, bin_edges = np.histogram(d)\n",
    "\n",
    "hist\n",
    "\n",
    "\n"
   ]
  },
  {
   "cell_type": "code",
   "execution_count": 20,
   "metadata": {},
   "outputs": [
    {
     "data": {
      "text/plain": [
       "array([ 2.11 ,  5.874,  9.638, 13.402, 17.166, 20.93 , 24.694, 28.458,\n",
       "       32.222, 35.986, 39.749])"
      ]
     },
     "execution_count": 20,
     "metadata": {},
     "output_type": "execute_result"
    }
   ],
   "source": [
    "bin_edges"
   ]
  },
  {
   "cell_type": "code",
   "execution_count": 1,
   "metadata": {},
   "outputs": [
    {
     "name": "stdout",
     "output_type": "stream",
     "text": [
      "Collecting python-bidi\n",
      "  Downloading https://files.pythonhosted.org/packages/33/b0/f942d146a2f457233baaafd6bdf624eba8e0f665045b4abd69d1b62d097d/python_bidi-0.4.2-py2.py3-none-any.whl\n",
      "Requirement already satisfied: six in c:\\users\\welcome\\anaconda3\\lib\\site-packages (from python-bidi) (1.12.0)\n",
      "Installing collected packages: python-bidi\n",
      "Successfully installed python-bidi-0.4.2\n",
      "Note: you may need to restart the kernel to use updated packages.\n"
     ]
    }
   ],
   "source": [
    "pip install python-bidi"
   ]
  },
  {
   "cell_type": "code",
   "execution_count": 2,
   "metadata": {},
   "outputs": [
    {
     "name": "stdout",
     "output_type": "stream",
     "text": [
      "ةورم\n"
     ]
    }
   ],
   "source": [
    "from bidi import algorithm as bidialg\n",
    "import matplotlib.pyplot as plt\n",
    "text = bidialg.get_display('مروة')\n",
    "print(text)"
   ]
  },
  {
   "cell_type": "code",
   "execution_count": 3,
   "metadata": {},
   "outputs": [
    {
     "name": "stdout",
     "output_type": "stream",
     "text": [
      "ﺔﻴﺑﺮﻋ ﺔﻐﻟ\n"
     ]
    },
    {
     "data": {
      "image/png": "[encoded data removed]",
      "text/plain": [
       "<Figure size 432x288 with 1 Axes>"
      ]
     },
     "metadata": {
      "needs_background": "light"
     },
     "output_type": "display_data"
    }
   ],
   "source": [
    "from bidi.algorithm import get_display\n",
    "import matplotlib.pyplot as plt\n",
    "import arabic_reshaper\n",
    "\n",
    "reshaped_text = arabic_reshaper.reshape(u'لغةٌ عربيّة')\n",
    "artext = get_display(reshaped_text)\n",
    "print(artext)\n",
    "plt.text(0.25, 0.45, artext , name = 'Times New Roman',fontsize=50)\n",
    "plt.show()"
   ]
  },
  {
   "cell_type": "code",
   "execution_count": 4,
   "metadata": {},
   "outputs": [
    {
     "name": "stdout",
     "output_type": "stream",
     "text": [
      "Collecting arabic_reshaper\n",
      "  Downloading https://files.pythonhosted.org/packages/1c/b8/9f87dc2fc6c2e087e448db9e7f66ca4d68c22e9d49a95e5aad22d77c74f1/arabic_reshaper-2.0.15-py3-none-any.whl\n",
      "Requirement already satisfied: future in c:\\users\\welcome\\anaconda3\\lib\\site-packages (from arabic_reshaper) (0.17.1)\n",
      "Requirement already satisfied: setuptools in c:\\users\\welcome\\anaconda3\\lib\\site-packages (from arabic_reshaper) (41.4.0)\n",
      "Installing collected packages: arabic-reshaper\n",
      "Successfully installed arabic-reshaper-2.0.15\n",
      "Note: you may need to restart the kernel to use updated packages.\n"
     ]
    }
   ],
   "source": [
    "pip install arabic_reshaper"
   ]
  },
  {
   "cell_type": "code",
   "execution_count": 3,
   "metadata": {},
   "outputs": [
    {
     "name": "stdout",
     "output_type": "stream",
     "text": [
      "[(1, 71.60906186465293), (2, 14.522218995062444), (3, 5.321355960333596), (4, 2.5683581594124725), (5, 1.5621758433260031), (6, 1.0165553296543712), (7, 0.6244554167876851), (8, 0.5062030621136052), (9, 0.38587610472594497), (10, 0.26139994191112403), (11, 0.2302809012074188), (12, 0.17841583336791006), (13, 0.172192025227169), (14, 0.1224015601012406), (15, 0.13899838180988341), (16, 0.07676030040247293), (17, 0.07053649226173188), (18, 0.07261109497531222), (19, 0.051865067839508734), (20, 0.051865067839508734), (21, 0.053939670553089084), (22, 0.03319364341728559), (23, 0.020746027135803494), (24, 0.02904443799012489), (25, 0.014522218995062446), (26, 0.045641259698767686), (27, 0.018671424422223144), (28, 0.018671424422223144), (29, 0.008298410854321397), (30, 0.010373013567901747), (31, 0.014522218995062446), (32, 0.010373013567901747), (33, 0.010373013567901747), (34, 0.006223808140741048), (35, 0.010373013567901747), (36, 0.010373013567901747), (37, 0.0020746027135803494), (38, 0.018671424422223144), (39, 0.004149205427160699), (40, 0.0020746027135803494), (41, 0.004149205427160699), (42, 0.006223808140741048), (43, 0.018671424422223144), (44, 0.0020746027135803494), (45, 0.0020746027135803494), (46, 0.0020746027135803494), (47, 0.008298410854321397), (48, 0.004149205427160699), (49, 0.0020746027135803494), (50, 0.004149205427160699), (59, 0.0020746027135803494), (60, 0.0020746027135803494), (62, 0.0020746027135803494), (66, 0.004149205427160699), (68, 0.0020746027135803494), (69, 0.004149205427160699), (74, 0.0020746027135803494), (75, 0.0020746027135803494), (78, 0.0020746027135803494), (80, 0.0020746027135803494), (81, 0.0020746027135803494), (82, 0.014522218995062446), (90, 0.018671424422223144)]\n"
     ]
    }
   ],
   "source": [
    "from collections import Counter \n",
    "c = Counter(ferquency_ret_for_rts_abdulaziz)\n",
    "                \n",
    "p=[(i, c[i] / len(ferquency_ret_for_rts_abdulaziz) * 100.0) for i in c]\n",
    "print(p)"
   ]
  },
  {
   "cell_type": "code",
   "execution_count": null,
   "metadata": {},
   "outputs": [],
   "source": []
  }
 ],
 "metadata": {
  "kernelspec": {
   "display_name": "Python 3",
   "language": "python",
   "name": "python3"
  },
  "language_info": {
   "codemirror_mode": {
    "name": "ipython",
    "version": 3
   },
   "file_extension": ".py",
   "mimetype": "text/x-python",
   "name": "python",
   "nbconvert_exporter": "python",
   "pygments_lexer": "ipython3",
   "version": "3.7.3"
  }
 },
 "nbformat": 4,
 "nbformat_minor": 4
}
