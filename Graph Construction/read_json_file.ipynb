{
 "cells": [
  {
   "cell_type": "code",
   "execution_count": 2,
   "metadata": {},
   "outputs": [
    {
     "name": "stdout",
     "output_type": "stream",
     "text": [
      "44bdfbf6b76b45b98fccf31d0c258646\n",
      "\n",
      "\n",
      "01d5d570f90b4fc89a8c769e542c4d91\n",
      "\n",
      "\n",
      "b85f20f8fed64dbe9afa71f39a1ebaae\n",
      "\n",
      "\n",
      "0f838e85578443078ed4ff56ac7e8dab\n",
      "\n",
      "\n",
      "dc4928538463465284c77b1753dcc0b9\n",
      "\n",
      "\n",
      "1c89cbc931444ad1a06f65030234d509\n",
      "\n",
      "\n",
      "c74726e6dabc4cea853919130a32b963\n",
      "\n",
      "\n",
      "e8b1ebf06e2e44be981ed735e5811e8e\n",
      "\n",
      "\n",
      "281089068a6f4d4caa7ca257ca25e993\n",
      "\n",
      "\n",
      "0e8db5d996b14ba2b7a75f2d1b8aa127\n",
      "\n",
      "\n",
      "faa1b5e833454b579c1eb160299a09f0\n",
      "\n",
      "\n",
      "4f5dd88d92394cd483e92126e812460a\n",
      "\n",
      "\n",
      "f46d994f948e4edfb6aa024cba6e1412\n",
      "\n",
      "\n",
      "14083ba7f3c24b018279eb038c60be24\n",
      "\n",
      "\n",
      "fe1ddd01d03a401bbc26b006fd8936a8\n",
      "\n",
      "\n",
      "wooow\n"
     ]
    }
   ],
   "source": [
    "import json\n",
    "with open('retweeter_group_alhilal_without1-5.json','r') as reader:\n",
    "        \n",
    "    for line in reader:\n",
    "        #discard empty file\n",
    "        if line.strip():\n",
    "            retweeter_group_read=json.loads(line)\n",
    "            #check item is dict object\n",
    "            if isinstance(retweeter_group_read, dict):\n",
    "                #check key \"group_id\" if exist in dict object\n",
    "                if \"group_id\" in retweeter_group_read.keys():\n",
    "                    group_id=retweeter_group_read[\"group_id\"]\n",
    "                    \n",
    "                    print(group_id)\n",
    "                    print(\"\\n\")\n",
    "                    #print(\"mmm\")\n",
    "                else:\n",
    "                    continue\n",
    "            else: \n",
    "                continue\n",
    "        else:\n",
    "              continue\n",
    "    print(\"wooow\")       \n",
    "       "
   ]
  },
  {
   "cell_type": "code",
   "execution_count": null,
   "metadata": {},
   "outputs": [],
   "source": []
  }
 ],
 "metadata": {
  "kernelspec": {
   "display_name": "Python 3",
   "language": "python",
   "name": "python3"
  },
  "language_info": {
   "codemirror_mode": {
    "name": "ipython",
    "version": 3
   },
   "file_extension": ".py",
   "mimetype": "text/x-python",
   "name": "python",
   "nbconvert_exporter": "python",
   "pygments_lexer": "ipython3",
   "version": "3.7.3"
  }
 },
 "nbformat": 4,
 "nbformat_minor": 4
}
